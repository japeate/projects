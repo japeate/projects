{
 "cells": [
  {
   "cell_type": "markdown",
   "metadata": {},
   "source": [
    "\n",
    "# Stay on Target\n",
    "\n",
    "## Predicting Customer Lifetime Value and future purchases by segment.\n",
    "\n",
    "One of the most important metrics for a company is its Customer Equity.\n",
    "\n",
    "It is possible to calculate Customer Equity (CE) because Customer Lifetime Value (CLV) can be measured with a reasonable degree of precision.\n",
    "\n",
    "CLV is the predicted value of the customer over the lifetime of their relationship with the company. It is predictive, so should not be confused with historic customer profitability.\n",
    "\n",
    "Not all customers are equally important to a firm. Maintaining long-term relation with all of them (especially the loss makers, or missing low spenders) is not optimal because at heart marketing is all about attracting and retaining profitable customers. Hence the objective of accurate CLV prediction is firstly to determine a comapnies customer equity and secondly as an input in customer acquisition decisions and customer acquisition/retention trade-offs."
   ]
  },
  {
   "cell_type": "code",
   "execution_count": 1,
   "metadata": {},
   "outputs": [],
   "source": [
    "%matplotlib inline\n",
    "\n",
    "import numpy as np\n",
    "import pandas as pd\n",
    "import matplotlib.pyplot as plt\n",
    "import seaborn as sns\n",
    "import lifetimes\n",
    "import datetime as dt\n",
    "from lifetimes.plotting import *\n",
    "from lifetimes.utils import *\n",
    "from lifetimes.estimation import *\n",
    "\n",
    "#Let's make this notebook reproducible \n",
    "np.random.seed(42)\n",
    "\n",
    "import random\n",
    "random.seed(42)\n",
    "\n",
    "import warnings\n",
    "warnings.filterwarnings('ignore')\n"
   ]
  },
  {
   "cell_type": "code",
   "execution_count": 2,
   "metadata": {},
   "outputs": [],
   "source": [
    "# Make the default figures a bit bigger\n",
    "plt.rcParams['figure.figsize'] = (7,4.5) \n",
    "plt.rcParams[\"figure.dpi\"] = 140 \n",
    "\n",
    "sns.set(style=\"ticks\")\n",
    "sns.set_context(\"poster\", font_scale = .5, rc={\"grid.linewidth\": 5})\n"
   ]
  },
  {
   "cell_type": "markdown",
   "metadata": {},
   "source": [
    "## Import Data and inspect\n",
    "\n",
    "Here we import the dataset and do some high level cleaning and data inspection before we start\n",
    "modelling"
   ]
  },
  {
   "cell_type": "code",
   "execution_count": 3,
   "metadata": {},
   "outputs": [],
   "source": [
    "elog = pd.read_csv('./dataset.csv')"
   ]
  },
  {
   "cell_type": "code",
   "execution_count": 4,
   "metadata": {},
   "outputs": [
    {
     "data": {
      "text/html": [
       "<div>\n",
       "<style scoped>\n",
       "    .dataframe tbody tr th:only-of-type {\n",
       "        vertical-align: middle;\n",
       "    }\n",
       "\n",
       "    .dataframe tbody tr th {\n",
       "        vertical-align: top;\n",
       "    }\n",
       "\n",
       "    .dataframe thead th {\n",
       "        text-align: right;\n",
       "    }\n",
       "</style>\n",
       "<table border=\"1\" class=\"dataframe\">\n",
       "  <thead>\n",
       "    <tr style=\"text-align: right;\">\n",
       "      <th></th>\n",
       "      <th>Unnamed: 0</th>\n",
       "      <th>customer_id</th>\n",
       "      <th>grand_total</th>\n",
       "      <th>created_at</th>\n",
       "    </tr>\n",
       "  </thead>\n",
       "  <tbody>\n",
       "    <tr>\n",
       "      <th>0</th>\n",
       "      <td>0</td>\n",
       "      <td>176303.0</td>\n",
       "      <td>24.90</td>\n",
       "      <td>1/01/2016 0:00</td>\n",
       "    </tr>\n",
       "    <tr>\n",
       "      <th>1</th>\n",
       "      <td>1</td>\n",
       "      <td>162373.0</td>\n",
       "      <td>76.91</td>\n",
       "      <td>1/01/2016 0:09</td>\n",
       "    </tr>\n",
       "    <tr>\n",
       "      <th>2</th>\n",
       "      <td>2</td>\n",
       "      <td>85220.0</td>\n",
       "      <td>107.86</td>\n",
       "      <td>1/01/2016 0:14</td>\n",
       "    </tr>\n",
       "    <tr>\n",
       "      <th>3</th>\n",
       "      <td>3</td>\n",
       "      <td>173169.0</td>\n",
       "      <td>320.15</td>\n",
       "      <td>1/01/2016 0:26</td>\n",
       "    </tr>\n",
       "    <tr>\n",
       "      <th>4</th>\n",
       "      <td>4</td>\n",
       "      <td>151466.0</td>\n",
       "      <td>40.80</td>\n",
       "      <td>1/01/2016 0:27</td>\n",
       "    </tr>\n",
       "  </tbody>\n",
       "</table>\n",
       "</div>"
      ],
      "text/plain": [
       "   Unnamed: 0  customer_id  grand_total      created_at\n",
       "0           0     176303.0        24.90  1/01/2016 0:00\n",
       "1           1     162373.0        76.91  1/01/2016 0:09\n",
       "2           2      85220.0       107.86  1/01/2016 0:14\n",
       "3           3     173169.0       320.15  1/01/2016 0:26\n",
       "4           4     151466.0        40.80  1/01/2016 0:27"
      ]
     },
     "execution_count": 4,
     "metadata": {},
     "output_type": "execute_result"
    }
   ],
   "source": [
    "elog.head()"
   ]
  },
  {
   "cell_type": "code",
   "execution_count": 5,
   "metadata": {},
   "outputs": [],
   "source": [
    "''' \n",
    "Here I am removing the 'Unnamed: 0' column which was added during the csv loading.\n",
    "'''\n",
    "\n",
    "elog.drop(['Unnamed: 0'], axis=1, inplace=True)"
   ]
  },
  {
   "cell_type": "code",
   "execution_count": 6,
   "metadata": {},
   "outputs": [],
   "source": [
    "'''\n",
    "Fill all the NaN values in the customer_id column (doesn't really make sense to keep them), and then filter them\n",
    "out of the dataset.\n",
    "'''\n",
    "\n",
    "elog.customer_id.fillna(0, inplace=True)\n",
    "elog = elog[elog.customer_id != 0]"
   ]
  },
  {
   "cell_type": "code",
   "execution_count": 7,
   "metadata": {},
   "outputs": [],
   "source": [
    "'''\n",
    "Here I will also ensure that all the grand_total values are positive. I am able to do this after discussion with the\n",
    "client to confirm that the negative and zero values are erroneous and not reflective of losses generated in sales.\n",
    "'''\n",
    "\n",
    "elog = elog[elog['grand_total'] > 0]"
   ]
  },
  {
   "cell_type": "code",
   "execution_count": 8,
   "metadata": {},
   "outputs": [
    {
     "name": "stdout",
     "output_type": "stream",
     "text": [
      "CPU times: user 24.6 s, sys: 12.9 ms, total: 24.6 s\n",
      "Wall time: 24.3 s\n"
     ]
    }
   ],
   "source": [
    "%%time\n",
    "\n",
    "elog['created_at'] = pd.to_datetime(elog['created_at']).dt.date\n",
    "elog['order_date'] = pd.to_datetime(elog['created_at'])\n",
    "elog.drop(['created_at'], axis=1, inplace=True)"
   ]
  },
  {
   "cell_type": "code",
   "execution_count": 9,
   "metadata": {
    "scrolled": true
   },
   "outputs": [
    {
     "name": "stdout",
     "output_type": "stream",
     "text": [
      "<class 'pandas.core.frame.DataFrame'>\n",
      "Int64Index: 271671 entries, 0 to 279780\n",
      "Data columns (total 3 columns):\n",
      "customer_id    271671 non-null float64\n",
      "grand_total    271671 non-null float64\n",
      "order_date     271671 non-null datetime64[ns]\n",
      "dtypes: datetime64[ns](1), float64(2)\n",
      "memory usage: 8.3 MB\n"
     ]
    }
   ],
   "source": [
    "elog.info()"
   ]
  },
  {
   "cell_type": "code",
   "execution_count": 10,
   "metadata": {},
   "outputs": [
    {
     "data": {
      "text/html": [
       "<div>\n",
       "<style scoped>\n",
       "    .dataframe tbody tr th:only-of-type {\n",
       "        vertical-align: middle;\n",
       "    }\n",
       "\n",
       "    .dataframe tbody tr th {\n",
       "        vertical-align: top;\n",
       "    }\n",
       "\n",
       "    .dataframe thead th {\n",
       "        text-align: right;\n",
       "    }\n",
       "</style>\n",
       "<table border=\"1\" class=\"dataframe\">\n",
       "  <thead>\n",
       "    <tr style=\"text-align: right;\">\n",
       "      <th></th>\n",
       "      <th>customer_id</th>\n",
       "      <th>grand_total</th>\n",
       "      <th>order_date</th>\n",
       "    </tr>\n",
       "  </thead>\n",
       "  <tbody>\n",
       "    <tr>\n",
       "      <th>0</th>\n",
       "      <td>176303.0</td>\n",
       "      <td>24.90</td>\n",
       "      <td>2016-01-01</td>\n",
       "    </tr>\n",
       "    <tr>\n",
       "      <th>1</th>\n",
       "      <td>162373.0</td>\n",
       "      <td>76.91</td>\n",
       "      <td>2016-01-01</td>\n",
       "    </tr>\n",
       "    <tr>\n",
       "      <th>2</th>\n",
       "      <td>85220.0</td>\n",
       "      <td>107.86</td>\n",
       "      <td>2016-01-01</td>\n",
       "    </tr>\n",
       "    <tr>\n",
       "      <th>3</th>\n",
       "      <td>173169.0</td>\n",
       "      <td>320.15</td>\n",
       "      <td>2016-01-01</td>\n",
       "    </tr>\n",
       "    <tr>\n",
       "      <th>4</th>\n",
       "      <td>151466.0</td>\n",
       "      <td>40.80</td>\n",
       "      <td>2016-01-01</td>\n",
       "    </tr>\n",
       "  </tbody>\n",
       "</table>\n",
       "</div>"
      ],
      "text/plain": [
       "   customer_id  grand_total order_date\n",
       "0     176303.0        24.90 2016-01-01\n",
       "1     162373.0        76.91 2016-01-01\n",
       "2      85220.0       107.86 2016-01-01\n",
       "3     173169.0       320.15 2016-01-01\n",
       "4     151466.0        40.80 2016-01-01"
      ]
     },
     "execution_count": 10,
     "metadata": {},
     "output_type": "execute_result"
    }
   ],
   "source": [
    "elog.head()"
   ]
  },
  {
   "cell_type": "code",
   "execution_count": 11,
   "metadata": {},
   "outputs": [
    {
     "data": {
      "text/plain": [
       "2019-12-01    142\n",
       "2019-11-01    156\n",
       "2019-10-01    214\n",
       "2019-09-01    243\n",
       "2019-08-01    194\n",
       "2019-07-01    227\n",
       "2019-06-01    153\n",
       "2019-05-01    134\n",
       "2019-04-01    140\n",
       "2019-03-01    224\n",
       "Name: order_date, dtype: int64"
      ]
     },
     "execution_count": 11,
     "metadata": {},
     "output_type": "execute_result"
    }
   ],
   "source": [
    "elog['order_date'].value_counts().sort_index(ascending=False).head(10)"
   ]
  },
  {
   "cell_type": "code",
   "execution_count": 12,
   "metadata": {},
   "outputs": [],
   "source": [
    "''' \n",
    "As the transaction log has purchases into the future, we will also remove them, as it is not possible that these sales\n",
    "have already occured.\n",
    "'''\n",
    "\n",
    "elog = elog[elog.order_date <= '2019-01-16']"
   ]
  },
  {
   "cell_type": "markdown",
   "metadata": {},
   "source": [
    "## Converting to RFM and separating\n",
    "\n",
    "In order to apply the lifetimes package on our model (and to do the customer segmentation) we will first need to transform our dataset from the one above into a RFM (recency, frequency, monetary_value) matrix. Luckily the lifetime package has an inbuilt method for doing this"
   ]
  },
  {
   "cell_type": "code",
   "execution_count": 13,
   "metadata": {},
   "outputs": [
    {
     "name": "stdout",
     "output_type": "stream",
     "text": [
      "CPU times: user 2.64 s, sys: 79.2 ms, total: 2.72 s\n",
      "Wall time: 1.88 s\n"
     ]
    }
   ],
   "source": [
    "%%time\n",
    "returning_customers_summary = summary_data_from_transaction_data(elog, \n",
    "                                                                 customer_id_col = 'customer_id',\n",
    "                                                                 datetime_col = 'order_date', \n",
    "                                                                 monetary_value_col='grand_total', \n",
    "                                                                 observation_period_end='2019-01-16')"
   ]
  },
  {
   "cell_type": "code",
   "execution_count": 14,
   "metadata": {
    "scrolled": true
   },
   "outputs": [
    {
     "data": {
      "text/html": [
       "<div>\n",
       "<style scoped>\n",
       "    .dataframe tbody tr th:only-of-type {\n",
       "        vertical-align: middle;\n",
       "    }\n",
       "\n",
       "    .dataframe tbody tr th {\n",
       "        vertical-align: top;\n",
       "    }\n",
       "\n",
       "    .dataframe thead th {\n",
       "        text-align: right;\n",
       "    }\n",
       "</style>\n",
       "<table border=\"1\" class=\"dataframe\">\n",
       "  <thead>\n",
       "    <tr style=\"text-align: right;\">\n",
       "      <th></th>\n",
       "      <th>frequency</th>\n",
       "      <th>recency</th>\n",
       "      <th>T</th>\n",
       "      <th>monetary_value</th>\n",
       "    </tr>\n",
       "    <tr>\n",
       "      <th>customer_id</th>\n",
       "      <th></th>\n",
       "      <th></th>\n",
       "      <th></th>\n",
       "      <th></th>\n",
       "    </tr>\n",
       "  </thead>\n",
       "  <tbody>\n",
       "    <tr>\n",
       "      <th>33.0</th>\n",
       "      <td>4.0</td>\n",
       "      <td>434.0</td>\n",
       "      <td>477.0</td>\n",
       "      <td>68.020</td>\n",
       "    </tr>\n",
       "    <tr>\n",
       "      <th>78.0</th>\n",
       "      <td>2.0</td>\n",
       "      <td>449.0</td>\n",
       "      <td>792.0</td>\n",
       "      <td>80.300</td>\n",
       "    </tr>\n",
       "    <tr>\n",
       "      <th>96.0</th>\n",
       "      <td>4.0</td>\n",
       "      <td>479.0</td>\n",
       "      <td>526.0</td>\n",
       "      <td>267.145</td>\n",
       "    </tr>\n",
       "    <tr>\n",
       "      <th>177.0</th>\n",
       "      <td>0.0</td>\n",
       "      <td>0.0</td>\n",
       "      <td>748.0</td>\n",
       "      <td>0.000</td>\n",
       "    </tr>\n",
       "    <tr>\n",
       "      <th>190.0</th>\n",
       "      <td>5.0</td>\n",
       "      <td>1056.0</td>\n",
       "      <td>1075.0</td>\n",
       "      <td>104.328</td>\n",
       "    </tr>\n",
       "  </tbody>\n",
       "</table>\n",
       "</div>"
      ],
      "text/plain": [
       "             frequency  recency       T  monetary_value\n",
       "customer_id                                            \n",
       "33.0               4.0    434.0   477.0          68.020\n",
       "78.0               2.0    449.0   792.0          80.300\n",
       "96.0               4.0    479.0   526.0         267.145\n",
       "177.0              0.0      0.0   748.0           0.000\n",
       "190.0              5.0   1056.0  1075.0         104.328"
      ]
     },
     "execution_count": 14,
     "metadata": {},
     "output_type": "execute_result"
    }
   ],
   "source": [
    "returning_customers_summary.head()"
   ]
  },
  {
   "cell_type": "code",
   "execution_count": 15,
   "metadata": {},
   "outputs": [],
   "source": [
    "'''\n",
    "At this stage I will make a duplicate of the dataset to use for customer segmentation.\n",
    "'''\n",
    "\n",
    "segment = returning_customers_summary"
   ]
  },
  {
   "cell_type": "markdown",
   "metadata": {},
   "source": [
    "Here I split the data set into a calibration and holdout set. We train the model on the calibration component, then test on the hold-out data. Note that the dates were arbitrarily chosen to allow for 6 months of test data."
   ]
  },
  {
   "cell_type": "code",
   "execution_count": 16,
   "metadata": {},
   "outputs": [
    {
     "name": "stdout",
     "output_type": "stream",
     "text": [
      "CPU times: user 8.96 s, sys: 429 ms, total: 9.39 s\n",
      "Wall time: 8.82 s\n"
     ]
    }
   ],
   "source": [
    "%%time\n",
    "calibration_period_ends = '2018-06-30'\n",
    "\n",
    "from lifetimes.utils import calibration_and_holdout_data\n",
    "\n",
    "summary_cal_holdout = calibration_and_holdout_data(elog, \n",
    "                                                   customer_id_col = 'customer_id', \n",
    "                                                   datetime_col = 'order_date', \n",
    "                                                   freq = 'D', #days\n",
    "                                        calibration_period_end=calibration_period_ends,\n",
    "                                        observation_period_end='2019-01-16' )"
   ]
  },
  {
   "cell_type": "code",
   "execution_count": 17,
   "metadata": {},
   "outputs": [
    {
     "data": {
      "text/html": [
       "<div>\n",
       "<style scoped>\n",
       "    .dataframe tbody tr th:only-of-type {\n",
       "        vertical-align: middle;\n",
       "    }\n",
       "\n",
       "    .dataframe tbody tr th {\n",
       "        vertical-align: top;\n",
       "    }\n",
       "\n",
       "    .dataframe thead th {\n",
       "        text-align: right;\n",
       "    }\n",
       "</style>\n",
       "<table border=\"1\" class=\"dataframe\">\n",
       "  <thead>\n",
       "    <tr style=\"text-align: right;\">\n",
       "      <th></th>\n",
       "      <th>frequency_cal</th>\n",
       "      <th>recency_cal</th>\n",
       "      <th>T_cal</th>\n",
       "      <th>frequency_holdout</th>\n",
       "      <th>duration_holdout</th>\n",
       "    </tr>\n",
       "    <tr>\n",
       "      <th>customer_id</th>\n",
       "      <th></th>\n",
       "      <th></th>\n",
       "      <th></th>\n",
       "      <th></th>\n",
       "      <th></th>\n",
       "    </tr>\n",
       "  </thead>\n",
       "  <tbody>\n",
       "    <tr>\n",
       "      <th>33.0</th>\n",
       "      <td>3.0</td>\n",
       "      <td>74.0</td>\n",
       "      <td>277.0</td>\n",
       "      <td>1.0</td>\n",
       "      <td>200</td>\n",
       "    </tr>\n",
       "    <tr>\n",
       "      <th>78.0</th>\n",
       "      <td>2.0</td>\n",
       "      <td>449.0</td>\n",
       "      <td>592.0</td>\n",
       "      <td>0.0</td>\n",
       "      <td>200</td>\n",
       "    </tr>\n",
       "    <tr>\n",
       "      <th>96.0</th>\n",
       "      <td>2.0</td>\n",
       "      <td>195.0</td>\n",
       "      <td>326.0</td>\n",
       "      <td>2.0</td>\n",
       "      <td>200</td>\n",
       "    </tr>\n",
       "    <tr>\n",
       "      <th>177.0</th>\n",
       "      <td>0.0</td>\n",
       "      <td>0.0</td>\n",
       "      <td>548.0</td>\n",
       "      <td>0.0</td>\n",
       "      <td>200</td>\n",
       "    </tr>\n",
       "    <tr>\n",
       "      <th>190.0</th>\n",
       "      <td>2.0</td>\n",
       "      <td>800.0</td>\n",
       "      <td>875.0</td>\n",
       "      <td>3.0</td>\n",
       "      <td>200</td>\n",
       "    </tr>\n",
       "  </tbody>\n",
       "</table>\n",
       "</div>"
      ],
      "text/plain": [
       "             frequency_cal  recency_cal  T_cal  frequency_holdout  \\\n",
       "customer_id                                                         \n",
       "33.0                   3.0         74.0  277.0                1.0   \n",
       "78.0                   2.0        449.0  592.0                0.0   \n",
       "96.0                   2.0        195.0  326.0                2.0   \n",
       "177.0                  0.0          0.0  548.0                0.0   \n",
       "190.0                  2.0        800.0  875.0                3.0   \n",
       "\n",
       "             duration_holdout  \n",
       "customer_id                    \n",
       "33.0                      200  \n",
       "78.0                      200  \n",
       "96.0                      200  \n",
       "177.0                     200  \n",
       "190.0                     200  "
      ]
     },
     "execution_count": 17,
     "metadata": {},
     "output_type": "execute_result"
    }
   ],
   "source": [
    "summary_cal_holdout.head()"
   ]
  },
  {
   "cell_type": "markdown",
   "metadata": {},
   "source": [
    "## Modelling with Modified BetaGeo-NBD\n",
    "\n",
    "In the lifetimes package we can model the purchase behaviour using the Pareto-NBD, Betageo-NBD and Modified Betageo-NBD (MBG/NBD) models. By testing the different models on the dataset, I found that in this particular case the MBG/NBD model provided the greatest accuracy over the training data, so I present the results specifically for this model below.\n",
    "\n",
    "The MBG/NBD model makes certain assumptions, namely:\n",
    " - While active, the number of transactions made by a customer follows a Poisson process with transaction rate λ.\n",
    " - Heterogeneity in λ across customers follows a Gamma distribution with shape parameter r and scale parameter α.\n",
    " - At time zero and right after each purchase the customer becomes inactive with a constant probability p.\n",
    " - Heterogeneity in p across customers follows a Gamma distribution with parameter a and b.\n",
    " - The transaction rate λ and the dropout probability p vary independently across customers."
   ]
  },
  {
   "cell_type": "code",
   "execution_count": 18,
   "metadata": {},
   "outputs": [
    {
     "name": "stdout",
     "output_type": "stream",
     "text": [
      "Optimize function with Nelder-Mead\n",
      "Optimization terminated successfully.\n",
      "         Current function value: -1.042676\n",
      "         Iterations: 191\n",
      "         Function evaluations: 328\n",
      "CPU times: user 3.22 s, sys: 13.2 ms, total: 3.23 s\n",
      "Wall time: 3.23 s\n"
     ]
    }
   ],
   "source": [
    "%%time\n",
    "\n",
    "'''\n",
    "Here we import the MBG/NBD fitter from the lifetimes package and fit it to our calibration data. By printing the \n",
    "model fit we can observe its parameters\n",
    "'''\n",
    "\n",
    "from lifetimes import ModifiedBetaGeoFitter\n",
    "\n",
    "mbgnbd = ModifiedBetaGeoFitter(penalizer_coef=0.01)\n",
    "mbgnbd.fit(summary_cal_holdout['frequency_cal'], \n",
    "           summary_cal_holdout['recency_cal'], \n",
    "           summary_cal_holdout['T_cal'],\n",
    "           verbose=True)"
   ]
  },
  {
   "cell_type": "code",
   "execution_count": 19,
   "metadata": {},
   "outputs": [
    {
     "name": "stdout",
     "output_type": "stream",
     "text": [
      "<lifetimes.ModifiedBetaGeoFitter: fitted with 69211 subjects, a: 0.38, alpha: 97.37, b: 0.55, r: 0.67>\n"
     ]
    }
   ],
   "source": [
    "print(mbgnbd)"
   ]
  },
  {
   "cell_type": "markdown",
   "metadata": {},
   "source": [
    "## Using Gamma-Gamma model to predict lifetime value\n",
    "\n",
    "In order to subsequently calculate the customer lifetime value for this dataset we can now apply a Gamma-Gamma model.\n",
    "\n",
    "This model assumes that there is no relationship between the monetary value and the purchase frequency (which should be the case in a continuous non-contractual business). We need to to check whether the Pearson correlation between the two vectors is close to 0 in order to use this model."
   ]
  },
  {
   "cell_type": "code",
   "execution_count": 20,
   "metadata": {},
   "outputs": [
    {
     "data": {
      "text/html": [
       "<div>\n",
       "<style scoped>\n",
       "    .dataframe tbody tr th:only-of-type {\n",
       "        vertical-align: middle;\n",
       "    }\n",
       "\n",
       "    .dataframe tbody tr th {\n",
       "        vertical-align: top;\n",
       "    }\n",
       "\n",
       "    .dataframe thead th {\n",
       "        text-align: right;\n",
       "    }\n",
       "</style>\n",
       "<table border=\"1\" class=\"dataframe\">\n",
       "  <thead>\n",
       "    <tr style=\"text-align: right;\">\n",
       "      <th></th>\n",
       "      <th>monetary_value</th>\n",
       "      <th>frequency</th>\n",
       "    </tr>\n",
       "  </thead>\n",
       "  <tbody>\n",
       "    <tr>\n",
       "      <th>monetary_value</th>\n",
       "      <td>1.00000</td>\n",
       "      <td>0.01239</td>\n",
       "    </tr>\n",
       "    <tr>\n",
       "      <th>frequency</th>\n",
       "      <td>0.01239</td>\n",
       "      <td>1.00000</td>\n",
       "    </tr>\n",
       "  </tbody>\n",
       "</table>\n",
       "</div>"
      ],
      "text/plain": [
       "                monetary_value  frequency\n",
       "monetary_value         1.00000    0.01239\n",
       "frequency              0.01239    1.00000"
      ]
     },
     "execution_count": 20,
     "metadata": {},
     "output_type": "execute_result"
    }
   ],
   "source": [
    "returning_customers_summary = returning_customers_summary[returning_customers_summary['frequency'] > 0]\n",
    "returning_customers_summary[['monetary_value', 'frequency']].corr()"
   ]
  },
  {
   "cell_type": "code",
   "execution_count": 21,
   "metadata": {},
   "outputs": [
    {
     "name": "stdout",
     "output_type": "stream",
     "text": [
      "Optimize function with Nelder-Mead\n",
      "Optimization terminated successfully.\n",
      "         Current function value: 6.783516\n",
      "         Iterations: 106\n",
      "         Function evaluations: 197\n",
      "Optimize function with Nelder-Mead\n",
      "Optimization terminated successfully.\n",
      "         Current function value: 6.783516\n",
      "         Iterations: 118\n",
      "         Function evaluations: 212\n",
      "Optimize function with Nelder-Mead\n",
      "Optimization terminated successfully.\n",
      "         Current function value: 6.783516\n",
      "         Iterations: 111\n",
      "         Function evaluations: 204\n",
      "Optimize function with Nelder-Mead\n",
      "Optimization terminated successfully.\n",
      "         Current function value: 6.783516\n",
      "         Iterations: 101\n",
      "         Function evaluations: 181\n",
      "CPU times: user 5.24 s, sys: 2.29 s, total: 7.53 s\n",
      "Wall time: 5.07 s\n"
     ]
    }
   ],
   "source": [
    "%%time \n",
    "\n",
    "'''\n",
    "As the above shows a low level of correlation between the monetary-value and frequency, we can successfully apply the\n",
    "Gamma-Gamma model.\n",
    "'''\n",
    "\n",
    "from lifetimes import GammaGammaFitter\n",
    "\n",
    "gg = GammaGammaFitter(penalizer_coef = 0.01)\n",
    "gg.fit(returning_customers_summary['frequency'],\n",
    "       returning_customers_summary['monetary_value'],\n",
    "       verbose=True)\n"
   ]
  },
  {
   "cell_type": "code",
   "execution_count": 22,
   "metadata": {},
   "outputs": [
    {
     "name": "stdout",
     "output_type": "stream",
     "text": [
      "<lifetimes.GammaGammaFitter: fitted with 32500 subjects, p: 3.96, q: 0.49, v: 3.85>\n"
     ]
    }
   ],
   "source": [
    "print(gg)"
   ]
  },
  {
   "cell_type": "markdown",
   "metadata": {},
   "source": [
    "## Predicting values for each customer\n",
    "\n",
    "We are able to now use this data to observe the specific probability of purchase and lifetime value for each specific customer over a specific time period. Here I have chosen to predict purchases and CLV over the next 3 months."
   ]
  },
  {
   "cell_type": "code",
   "execution_count": 23,
   "metadata": {},
   "outputs": [],
   "source": [
    "t = 90 # days to predict in the future \n",
    "summary_cal_holdout['predicted_purchases'] = mbgnbd.conditional_expected_number_of_purchases_up_to_time(t, \n",
    "                                                                     summary_cal_holdout['frequency_cal'], \n",
    "                                                                     summary_cal_holdout['recency_cal'], \n",
    "                                                                     summary_cal_holdout['T_cal'])\n",
    "\n",
    "summary_cal_holdout['p_alive'] = mbgnbd.conditional_probability_alive(summary_cal_holdout['frequency_cal'], \n",
    "                                                                      summary_cal_holdout['recency_cal'], \n",
    "                                                                      summary_cal_holdout['T_cal'])\n",
    "\n",
    "summary_cal_holdout['p_alive'] = np.round(summary_cal_holdout['p_alive'] / summary_cal_holdout['p_alive'].max(), 2)\n",
    "\n",
    "summary_cal_holdout['clv'] = gg.customer_lifetime_value(mbgnbd, #the model fitted\n",
    "                                                        returning_customers_summary['frequency'],\n",
    "                                                        returning_customers_summary['recency'],\n",
    "                                                        returning_customers_summary['T'],\n",
    "                                                        returning_customers_summary['monetary_value'],\n",
    "                                                        time=3, # months\n",
    "                                                        discount_rate=0\n",
    "                                                       )\n",
    "\n",
    "summary_cal_holdout['clv'] += (-1*summary_cal_holdout['clv'].min())"
   ]
  },
  {
   "cell_type": "code",
   "execution_count": 24,
   "metadata": {},
   "outputs": [
    {
     "data": {
      "text/html": [
       "<div>\n",
       "<style scoped>\n",
       "    .dataframe tbody tr th:only-of-type {\n",
       "        vertical-align: middle;\n",
       "    }\n",
       "\n",
       "    .dataframe tbody tr th {\n",
       "        vertical-align: top;\n",
       "    }\n",
       "\n",
       "    .dataframe thead th {\n",
       "        text-align: right;\n",
       "    }\n",
       "</style>\n",
       "<table border=\"1\" class=\"dataframe\">\n",
       "  <thead>\n",
       "    <tr style=\"text-align: right;\">\n",
       "      <th>customer_id</th>\n",
       "      <th>190667.0</th>\n",
       "      <th>157574.0</th>\n",
       "    </tr>\n",
       "  </thead>\n",
       "  <tbody>\n",
       "    <tr>\n",
       "      <th>frequency_cal</th>\n",
       "      <td>1.000000</td>\n",
       "      <td>1.000000</td>\n",
       "    </tr>\n",
       "    <tr>\n",
       "      <th>recency_cal</th>\n",
       "      <td>158.000000</td>\n",
       "      <td>40.000000</td>\n",
       "    </tr>\n",
       "    <tr>\n",
       "      <th>T_cal</th>\n",
       "      <td>775.000000</td>\n",
       "      <td>897.000000</td>\n",
       "    </tr>\n",
       "    <tr>\n",
       "      <th>frequency_holdout</th>\n",
       "      <td>0.000000</td>\n",
       "      <td>0.000000</td>\n",
       "    </tr>\n",
       "    <tr>\n",
       "      <th>duration_holdout</th>\n",
       "      <td>200.000000</td>\n",
       "      <td>200.000000</td>\n",
       "    </tr>\n",
       "    <tr>\n",
       "      <th>predicted_purchases</th>\n",
       "      <td>0.058694</td>\n",
       "      <td>0.019537</td>\n",
       "    </tr>\n",
       "    <tr>\n",
       "      <th>p_alive</th>\n",
       "      <td>0.350000</td>\n",
       "      <td>0.130000</td>\n",
       "    </tr>\n",
       "    <tr>\n",
       "      <th>clv</th>\n",
       "      <td>5.672769</td>\n",
       "      <td>1.138583</td>\n",
       "    </tr>\n",
       "  </tbody>\n",
       "</table>\n",
       "</div>"
      ],
      "text/plain": [
       "customer_id            190667.0    157574.0\n",
       "frequency_cal          1.000000    1.000000\n",
       "recency_cal          158.000000   40.000000\n",
       "T_cal                775.000000  897.000000\n",
       "frequency_holdout      0.000000    0.000000\n",
       "duration_holdout     200.000000  200.000000\n",
       "predicted_purchases    0.058694    0.019537\n",
       "p_alive                0.350000    0.130000\n",
       "clv                    5.672769    1.138583"
      ]
     },
     "metadata": {},
     "output_type": "display_data"
    }
   ],
   "source": [
    "display(summary_cal_holdout.sample(2).T)"
   ]
  },
  {
   "cell_type": "code",
   "execution_count": 25,
   "metadata": {},
   "outputs": [
    {
     "data": {
      "text/html": [
       "<div>\n",
       "<style scoped>\n",
       "    .dataframe tbody tr th:only-of-type {\n",
       "        vertical-align: middle;\n",
       "    }\n",
       "\n",
       "    .dataframe tbody tr th {\n",
       "        vertical-align: top;\n",
       "    }\n",
       "\n",
       "    .dataframe thead th {\n",
       "        text-align: right;\n",
       "    }\n",
       "</style>\n",
       "<table border=\"1\" class=\"dataframe\">\n",
       "  <thead>\n",
       "    <tr style=\"text-align: right;\">\n",
       "      <th></th>\n",
       "      <th>frequency_cal</th>\n",
       "      <th>recency_cal</th>\n",
       "      <th>T_cal</th>\n",
       "      <th>frequency_holdout</th>\n",
       "      <th>duration_holdout</th>\n",
       "      <th>predicted_purchases</th>\n",
       "      <th>p_alive</th>\n",
       "      <th>clv</th>\n",
       "    </tr>\n",
       "    <tr>\n",
       "      <th>customer_id</th>\n",
       "      <th></th>\n",
       "      <th></th>\n",
       "      <th></th>\n",
       "      <th></th>\n",
       "      <th></th>\n",
       "      <th></th>\n",
       "      <th></th>\n",
       "      <th></th>\n",
       "    </tr>\n",
       "  </thead>\n",
       "  <tbody>\n",
       "    <tr>\n",
       "      <th>27758.0</th>\n",
       "      <td>57.0</td>\n",
       "      <td>883.0</td>\n",
       "      <td>888.0</td>\n",
       "      <td>7.0</td>\n",
       "      <td>200</td>\n",
       "      <td>5.135895</td>\n",
       "      <td>0.99</td>\n",
       "      <td>12094.156326</td>\n",
       "    </tr>\n",
       "    <tr>\n",
       "      <th>271091.0</th>\n",
       "      <td>30.0</td>\n",
       "      <td>179.0</td>\n",
       "      <td>179.0</td>\n",
       "      <td>42.0</td>\n",
       "      <td>200</td>\n",
       "      <td>9.341732</td>\n",
       "      <td>0.99</td>\n",
       "      <td>2904.723503</td>\n",
       "    </tr>\n",
       "    <tr>\n",
       "      <th>262737.0</th>\n",
       "      <td>6.0</td>\n",
       "      <td>468.0</td>\n",
       "      <td>535.0</td>\n",
       "      <td>8.0</td>\n",
       "      <td>200</td>\n",
       "      <td>0.826208</td>\n",
       "      <td>0.89</td>\n",
       "      <td>1707.599563</td>\n",
       "    </tr>\n",
       "    <tr>\n",
       "      <th>4033.0</th>\n",
       "      <td>80.0</td>\n",
       "      <td>871.0</td>\n",
       "      <td>909.0</td>\n",
       "      <td>10.0</td>\n",
       "      <td>200</td>\n",
       "      <td>6.427814</td>\n",
       "      <td>0.91</td>\n",
       "      <td>1536.185127</td>\n",
       "    </tr>\n",
       "    <tr>\n",
       "      <th>155445.0</th>\n",
       "      <td>60.0</td>\n",
       "      <td>864.0</td>\n",
       "      <td>873.0</td>\n",
       "      <td>20.0</td>\n",
       "      <td>200</td>\n",
       "      <td>5.473415</td>\n",
       "      <td>0.99</td>\n",
       "      <td>1333.658783</td>\n",
       "    </tr>\n",
       "    <tr>\n",
       "      <th>63691.0</th>\n",
       "      <td>23.0</td>\n",
       "      <td>904.0</td>\n",
       "      <td>910.0</td>\n",
       "      <td>4.0</td>\n",
       "      <td>200</td>\n",
       "      <td>2.043427</td>\n",
       "      <td>0.98</td>\n",
       "      <td>1289.605179</td>\n",
       "    </tr>\n",
       "    <tr>\n",
       "      <th>255303.0</th>\n",
       "      <td>9.0</td>\n",
       "      <td>232.0</td>\n",
       "      <td>303.0</td>\n",
       "      <td>1.0</td>\n",
       "      <td>200</td>\n",
       "      <td>1.660183</td>\n",
       "      <td>0.79</td>\n",
       "      <td>1152.157131</td>\n",
       "    </tr>\n",
       "    <tr>\n",
       "      <th>174334.0</th>\n",
       "      <td>41.0</td>\n",
       "      <td>788.0</td>\n",
       "      <td>809.0</td>\n",
       "      <td>5.0</td>\n",
       "      <td>200</td>\n",
       "      <td>3.968810</td>\n",
       "      <td>0.98</td>\n",
       "      <td>1128.557154</td>\n",
       "    </tr>\n",
       "    <tr>\n",
       "      <th>180052.0</th>\n",
       "      <td>44.0</td>\n",
       "      <td>805.0</td>\n",
       "      <td>864.0</td>\n",
       "      <td>6.0</td>\n",
       "      <td>200</td>\n",
       "      <td>3.596991</td>\n",
       "      <td>0.88</td>\n",
       "      <td>1052.970449</td>\n",
       "    </tr>\n",
       "    <tr>\n",
       "      <th>180337.0</th>\n",
       "      <td>112.0</td>\n",
       "      <td>880.0</td>\n",
       "      <td>908.0</td>\n",
       "      <td>12.0</td>\n",
       "      <td>200</td>\n",
       "      <td>9.182823</td>\n",
       "      <td>0.93</td>\n",
       "      <td>1021.002664</td>\n",
       "    </tr>\n",
       "  </tbody>\n",
       "</table>\n",
       "</div>"
      ],
      "text/plain": [
       "             frequency_cal  recency_cal  T_cal  frequency_holdout  \\\n",
       "customer_id                                                         \n",
       "27758.0               57.0        883.0  888.0                7.0   \n",
       "271091.0              30.0        179.0  179.0               42.0   \n",
       "262737.0               6.0        468.0  535.0                8.0   \n",
       "4033.0                80.0        871.0  909.0               10.0   \n",
       "155445.0              60.0        864.0  873.0               20.0   \n",
       "63691.0               23.0        904.0  910.0                4.0   \n",
       "255303.0               9.0        232.0  303.0                1.0   \n",
       "174334.0              41.0        788.0  809.0                5.0   \n",
       "180052.0              44.0        805.0  864.0                6.0   \n",
       "180337.0             112.0        880.0  908.0               12.0   \n",
       "\n",
       "             duration_holdout  predicted_purchases  p_alive           clv  \n",
       "customer_id                                                                \n",
       "27758.0                   200             5.135895     0.99  12094.156326  \n",
       "271091.0                  200             9.341732     0.99   2904.723503  \n",
       "262737.0                  200             0.826208     0.89   1707.599563  \n",
       "4033.0                    200             6.427814     0.91   1536.185127  \n",
       "155445.0                  200             5.473415     0.99   1333.658783  \n",
       "63691.0                   200             2.043427     0.98   1289.605179  \n",
       "255303.0                  200             1.660183     0.79   1152.157131  \n",
       "174334.0                  200             3.968810     0.98   1128.557154  \n",
       "180052.0                  200             3.596991     0.88   1052.970449  \n",
       "180337.0                  200             9.182823     0.93   1021.002664  "
      ]
     },
     "execution_count": 25,
     "metadata": {},
     "output_type": "execute_result"
    }
   ],
   "source": [
    "'''\n",
    "And here we can view the purchasers with the highest predit CLV over the next 3 months. Further discussion with the\n",
    "client would be required regarding customer_id 27758.0 as they appear to be an abnormally high purchaser.\n",
    "'''\n",
    "\n",
    "summary_cal_holdout.sort_values(by='clv', ascending=False).head(10)"
   ]
  },
  {
   "cell_type": "markdown",
   "metadata": {},
   "source": [
    "## Model assessment\n",
    "\n",
    "Here we can view how well our modelling is fitting the data"
   ]
  },
  {
   "cell_type": "code",
   "execution_count": 26,
   "metadata": {},
   "outputs": [
    {
     "name": "stdout",
     "output_type": "stream",
     "text": [
      "CPU times: user 14.3 s, sys: 24.1 ms, total: 14.3 s\n",
      "Wall time: 14.3 s\n"
     ]
    },
    {
     "data": {
      "image/png": "[encoded data removed]",
      "text/plain": [
       "<Figure size 980x630 with 1 Axes>"
      ]
     },
     "metadata": {},
     "output_type": "display_data"
    }
   ],
   "source": [
    "%%time \n",
    "\n",
    "from lifetimes.plotting import plot_period_transactions\n",
    "ax = plot_period_transactions(mbgnbd, max_frequency=7)\n",
    "ax.set_yscale('log')\n",
    "sns.despine();"
   ]
  },
  {
   "cell_type": "code",
   "execution_count": 27,
   "metadata": {},
   "outputs": [
    {
     "name": "stdout",
     "output_type": "stream",
     "text": [
      "CPU times: user 3.02 s, sys: 133 ms, total: 3.15 s\n",
      "Wall time: 2.5 s\n"
     ]
    },
    {
     "data": {
      "image/png": "[encoded data removed]",
      "text/plain": [
       "<Figure size 980x630 with 1 Axes>"
      ]
     },
     "metadata": {},
     "output_type": "display_data"
    }
   ],
   "source": [
    "%%time \n",
    "\n",
    "from lifetimes.plotting import plot_calibration_purchases_vs_holdout_purchases\n",
    "\n",
    "plot_calibration_purchases_vs_holdout_purchases(mbgnbd, summary_cal_holdout)\n",
    "sns.despine();"
   ]
  },
  {
   "cell_type": "markdown",
   "metadata": {},
   "source": [
    "From the above charts we can observe a good fit within the calibration data and a pretty good fit in predicted sales over the holdout-period from the earlier data. We can also visualise the probability of whether a customer is alive at a set time."
   ]
  },
  {
   "cell_type": "code",
   "execution_count": 28,
   "metadata": {},
   "outputs": [
    {
     "name": "stdout",
     "output_type": "stream",
     "text": [
      "Probability that customer is alive today is 0.61\n"
     ]
    },
    {
     "data": {
      "image/png": "[encoded data removed]",
      "text/plain": [
       "<Figure size 980x630 with 1 Axes>"
      ]
     },
     "metadata": {},
     "output_type": "display_data"
    }
   ],
   "source": [
    "from lifetimes.plotting import plot_history_alive\n",
    "from datetime import datetime\n",
    "from datetime import date\n",
    "from pylab import figure, text, scatter, show\n",
    "\n",
    "individual = summary_cal_holdout.iloc[4940]\n",
    "\n",
    "id = individual.name\n",
    "t = 365*50\n",
    "\n",
    "today = datetime.strptime('2019-01-16', '%Y-%m-%d').date()\n",
    "two_year_ago = today.replace(year=today.year - 2)\n",
    "one_year_from_now = today.replace(year=today.year + 1)\n",
    "\n",
    "sp_trans = elog.loc[elog['customer_id'] == id]\n",
    "\n",
    "from lifetimes.utils import calculate_alive_path\n",
    "\n",
    "t = (today - sp_trans.order_date.min().date()).days\n",
    "p_alive_today = pd.DataFrame(calculate_alive_path(mbgnbd, sp_trans, 'order_date', t, freq='D'))[0].tail(1).values\n",
    "p_alive_today = np.round(p_alive_today[0], 2)\n",
    "print('Probability that customer is alive today is', p_alive_today)\n",
    "\n",
    "t = (one_year_from_now - sp_trans.order_date.min().date()).days\n",
    "ax = plot_history_alive(mbgnbd, t, sp_trans, 'order_date', start_date=two_year_ago) #, start_date='2016-01-01'\n",
    "ax.vlines(x=today, ymin=0, ymax=1.05, colors='#4C4C4C')\n",
    "ax.hlines(y=0.8, xmin=two_year_ago, xmax=one_year_from_now, colors='#4C4C4C')\n",
    "\n",
    "ax.set_xlim(two_year_ago, one_year_from_now) # sp_trans.ORDER_DATE.min()\n",
    "ax.set_ylim(0, 1.05)\n",
    "\n",
    "plt.xticks(rotation=-90)\n",
    "text(0.75, 0.1, p_alive_today, ha='center', va='center', transform=ax.transAxes)\n",
    "\n",
    "sns.despine()"
   ]
  },
  {
   "cell_type": "markdown",
   "metadata": {},
   "source": [
    "We can also predict the number of transactions over time. Note that in order to so this, we need to rename the columns, specifically the order_date to date."
   ]
  },
  {
   "cell_type": "code",
   "execution_count": 29,
   "metadata": {},
   "outputs": [
    {
     "data": {
      "text/html": [
       "<div>\n",
       "<style scoped>\n",
       "    .dataframe tbody tr th:only-of-type {\n",
       "        vertical-align: middle;\n",
       "    }\n",
       "\n",
       "    .dataframe tbody tr th {\n",
       "        vertical-align: top;\n",
       "    }\n",
       "\n",
       "    .dataframe thead th {\n",
       "        text-align: right;\n",
       "    }\n",
       "</style>\n",
       "<table border=\"1\" class=\"dataframe\">\n",
       "  <thead>\n",
       "    <tr style=\"text-align: right;\">\n",
       "      <th></th>\n",
       "      <th>customer_id</th>\n",
       "      <th>grand_total</th>\n",
       "      <th>order_date</th>\n",
       "    </tr>\n",
       "  </thead>\n",
       "  <tbody>\n",
       "    <tr>\n",
       "      <th>0</th>\n",
       "      <td>176303.0</td>\n",
       "      <td>24.90</td>\n",
       "      <td>2016-01-01</td>\n",
       "    </tr>\n",
       "    <tr>\n",
       "      <th>1</th>\n",
       "      <td>162373.0</td>\n",
       "      <td>76.91</td>\n",
       "      <td>2016-01-01</td>\n",
       "    </tr>\n",
       "    <tr>\n",
       "      <th>2</th>\n",
       "      <td>85220.0</td>\n",
       "      <td>107.86</td>\n",
       "      <td>2016-01-01</td>\n",
       "    </tr>\n",
       "    <tr>\n",
       "      <th>3</th>\n",
       "      <td>173169.0</td>\n",
       "      <td>320.15</td>\n",
       "      <td>2016-01-01</td>\n",
       "    </tr>\n",
       "    <tr>\n",
       "      <th>4</th>\n",
       "      <td>151466.0</td>\n",
       "      <td>40.80</td>\n",
       "      <td>2016-01-01</td>\n",
       "    </tr>\n",
       "  </tbody>\n",
       "</table>\n",
       "</div>"
      ],
      "text/plain": [
       "   customer_id  grand_total order_date\n",
       "0     176303.0        24.90 2016-01-01\n",
       "1     162373.0        76.91 2016-01-01\n",
       "2      85220.0       107.86 2016-01-01\n",
       "3     173169.0       320.15 2016-01-01\n",
       "4     151466.0        40.80 2016-01-01"
      ]
     },
     "execution_count": 29,
     "metadata": {},
     "output_type": "execute_result"
    }
   ],
   "source": [
    "elog.head()"
   ]
  },
  {
   "cell_type": "code",
   "execution_count": 30,
   "metadata": {},
   "outputs": [],
   "source": [
    "elog.columns = ['customer_id', 'sale_amount', 'date']"
   ]
  },
  {
   "cell_type": "code",
   "execution_count": 31,
   "metadata": {
    "scrolled": true
   },
   "outputs": [
    {
     "name": "stdout",
     "output_type": "stream",
     "text": [
      "CPU times: user 11.7 s, sys: 237 ms, total: 11.9 s\n",
      "Wall time: 11 s\n"
     ]
    }
   ],
   "source": [
    "%%time\n",
    "# Get expected and actual repeated cumulative transactions.\n",
    "\n",
    "from lifetimes.utils import expected_cumulative_transactions\n",
    "\n",
    "t = (elog.date.max() - elog.date.min()).days\n",
    "df = expected_cumulative_transactions(mbgnbd, elog, 'date', 'customer_id', t)"
   ]
  },
  {
   "cell_type": "code",
   "execution_count": 32,
   "metadata": {
    "scrolled": true
   },
   "outputs": [
    {
     "name": "stdout",
     "output_type": "stream",
     "text": [
      "CPU times: user 11.7 s, sys: 247 ms, total: 12 s\n",
      "Wall time: 11 s\n"
     ]
    },
    {
     "data": {
      "image/png": "[encoded data removed]",
      "text/plain": [
       "<Figure size 980x630 with 1 Axes>"
      ]
     },
     "metadata": {},
     "output_type": "display_data"
    }
   ],
   "source": [
    "%%time\n",
    "# Calibration period = 2016-09-04 to 2017-09-30\n",
    "\n",
    "cal = datetime.strptime('2018-06-30', '%Y-%m-%d')\n",
    "\n",
    "from lifetimes.plotting import plot_cumulative_transactions\n",
    "t = (elog.date.max() - elog.date.min()).days\n",
    "t_cal = (cal - elog.date.min()).days\n",
    "plot_cumulative_transactions(mbgnbd, elog, 'date', 'customer_id', t, t_cal, freq='D')\n",
    "sns.despine()"
   ]
  },
  {
   "cell_type": "code",
   "execution_count": 33,
   "metadata": {},
   "outputs": [
    {
     "name": "stdout",
     "output_type": "stream",
     "text": [
      "CPU times: user 11.9 s, sys: 242 ms, total: 12.2 s\n",
      "Wall time: 11.2 s\n"
     ]
    },
    {
     "data": {
      "image/png": "[encoded data removed]",
      "text/plain": [
       "<Figure size 980x630 with 1 Axes>"
      ]
     },
     "metadata": {},
     "output_type": "display_data"
    }
   ],
   "source": [
    "%%time \n",
    "\n",
    "from lifetimes.plotting import plot_incremental_transactions\n",
    "plot_incremental_transactions(mbgnbd, elog, 'date', 'customer_id', t, t_cal, freq='D')\n",
    "sns.despine()"
   ]
  },
  {
   "cell_type": "markdown",
   "metadata": {},
   "source": [
    "So from the above graphs, we can be highly confident in the predictive power of our model. We can also use it to find the average customer lifetime value of our customers.\n"
   ]
  },
  {
   "cell_type": "code",
   "execution_count": 34,
   "metadata": {},
   "outputs": [
    {
     "name": "stdout",
     "output_type": "stream",
     "text": [
      "Expected conditional average revenue: $153.64, Average revenue: $140.47\n"
     ]
    }
   ],
   "source": [
    "print(\"Expected conditional average revenue: $%s, Average revenue: $%s\" % (\n",
    "       np.round(gg.conditional_expected_average_profit(\n",
    "           returning_customers_summary['frequency'],\n",
    "           returning_customers_summary['monetary_value']).mean(), 2),\n",
    "       np.round(returning_customers_summary[returning_customers_summary['frequency']>0]['monetary_value'].mean(), 2)\n",
    "))  "
   ]
  },
  {
   "cell_type": "markdown",
   "metadata": {},
   "source": [
    "## Combining dataframes\n",
    "\n",
    "Now I will merge together the two dataframes to get all the data in a singular one."
   ]
  },
  {
   "cell_type": "code",
   "execution_count": 35,
   "metadata": {},
   "outputs": [
    {
     "data": {
      "text/html": [
       "<div>\n",
       "<style scoped>\n",
       "    .dataframe tbody tr th:only-of-type {\n",
       "        vertical-align: middle;\n",
       "    }\n",
       "\n",
       "    .dataframe tbody tr th {\n",
       "        vertical-align: top;\n",
       "    }\n",
       "\n",
       "    .dataframe thead th {\n",
       "        text-align: right;\n",
       "    }\n",
       "</style>\n",
       "<table border=\"1\" class=\"dataframe\">\n",
       "  <thead>\n",
       "    <tr style=\"text-align: right;\">\n",
       "      <th></th>\n",
       "      <th>frequency</th>\n",
       "      <th>recency</th>\n",
       "      <th>T</th>\n",
       "      <th>monetary_value</th>\n",
       "    </tr>\n",
       "    <tr>\n",
       "      <th>customer_id</th>\n",
       "      <th></th>\n",
       "      <th></th>\n",
       "      <th></th>\n",
       "      <th></th>\n",
       "    </tr>\n",
       "  </thead>\n",
       "  <tbody>\n",
       "    <tr>\n",
       "      <th>33.0</th>\n",
       "      <td>4.0</td>\n",
       "      <td>434.0</td>\n",
       "      <td>477.0</td>\n",
       "      <td>68.020000</td>\n",
       "    </tr>\n",
       "    <tr>\n",
       "      <th>78.0</th>\n",
       "      <td>2.0</td>\n",
       "      <td>449.0</td>\n",
       "      <td>792.0</td>\n",
       "      <td>80.300000</td>\n",
       "    </tr>\n",
       "    <tr>\n",
       "      <th>96.0</th>\n",
       "      <td>4.0</td>\n",
       "      <td>479.0</td>\n",
       "      <td>526.0</td>\n",
       "      <td>267.145000</td>\n",
       "    </tr>\n",
       "    <tr>\n",
       "      <th>190.0</th>\n",
       "      <td>5.0</td>\n",
       "      <td>1056.0</td>\n",
       "      <td>1075.0</td>\n",
       "      <td>104.328000</td>\n",
       "    </tr>\n",
       "    <tr>\n",
       "      <th>253.0</th>\n",
       "      <td>9.0</td>\n",
       "      <td>700.0</td>\n",
       "      <td>1102.0</td>\n",
       "      <td>115.035556</td>\n",
       "    </tr>\n",
       "  </tbody>\n",
       "</table>\n",
       "</div>"
      ],
      "text/plain": [
       "             frequency  recency       T  monetary_value\n",
       "customer_id                                            \n",
       "33.0               4.0    434.0   477.0       68.020000\n",
       "78.0               2.0    449.0   792.0       80.300000\n",
       "96.0               4.0    479.0   526.0      267.145000\n",
       "190.0              5.0   1056.0  1075.0      104.328000\n",
       "253.0              9.0    700.0  1102.0      115.035556"
      ]
     },
     "execution_count": 35,
     "metadata": {},
     "output_type": "execute_result"
    }
   ],
   "source": [
    "returning_customers_summary.head()"
   ]
  },
  {
   "cell_type": "code",
   "execution_count": 36,
   "metadata": {},
   "outputs": [
    {
     "data": {
      "text/html": [
       "<div>\n",
       "<style scoped>\n",
       "    .dataframe tbody tr th:only-of-type {\n",
       "        vertical-align: middle;\n",
       "    }\n",
       "\n",
       "    .dataframe tbody tr th {\n",
       "        vertical-align: top;\n",
       "    }\n",
       "\n",
       "    .dataframe thead th {\n",
       "        text-align: right;\n",
       "    }\n",
       "</style>\n",
       "<table border=\"1\" class=\"dataframe\">\n",
       "  <thead>\n",
       "    <tr style=\"text-align: right;\">\n",
       "      <th></th>\n",
       "      <th>frequency_cal</th>\n",
       "      <th>recency_cal</th>\n",
       "      <th>T_cal</th>\n",
       "      <th>frequency_holdout</th>\n",
       "      <th>duration_holdout</th>\n",
       "      <th>predicted_purchases</th>\n",
       "      <th>p_alive</th>\n",
       "      <th>clv</th>\n",
       "    </tr>\n",
       "    <tr>\n",
       "      <th>customer_id</th>\n",
       "      <th></th>\n",
       "      <th></th>\n",
       "      <th></th>\n",
       "      <th></th>\n",
       "      <th></th>\n",
       "      <th></th>\n",
       "      <th></th>\n",
       "      <th></th>\n",
       "    </tr>\n",
       "  </thead>\n",
       "  <tbody>\n",
       "    <tr>\n",
       "      <th>33.0</th>\n",
       "      <td>3.0</td>\n",
       "      <td>74.0</td>\n",
       "      <td>277.0</td>\n",
       "      <td>1.0</td>\n",
       "      <td>200</td>\n",
       "      <td>0.295925</td>\n",
       "      <td>0.35</td>\n",
       "      <td>45.401124</td>\n",
       "    </tr>\n",
       "    <tr>\n",
       "      <th>78.0</th>\n",
       "      <td>2.0</td>\n",
       "      <td>449.0</td>\n",
       "      <td>592.0</td>\n",
       "      <td>0.0</td>\n",
       "      <td>200</td>\n",
       "      <td>0.267794</td>\n",
       "      <td>0.79</td>\n",
       "      <td>15.148638</td>\n",
       "    </tr>\n",
       "    <tr>\n",
       "      <th>96.0</th>\n",
       "      <td>2.0</td>\n",
       "      <td>195.0</td>\n",
       "      <td>326.0</td>\n",
       "      <td>2.0</td>\n",
       "      <td>200</td>\n",
       "      <td>0.392830</td>\n",
       "      <td>0.72</td>\n",
       "      <td>162.867630</td>\n",
       "    </tr>\n",
       "    <tr>\n",
       "      <th>177.0</th>\n",
       "      <td>0.0</td>\n",
       "      <td>0.0</td>\n",
       "      <td>548.0</td>\n",
       "      <td>0.0</td>\n",
       "      <td>200</td>\n",
       "      <td>0.026813</td>\n",
       "      <td>0.29</td>\n",
       "      <td>NaN</td>\n",
       "    </tr>\n",
       "    <tr>\n",
       "      <th>190.0</th>\n",
       "      <td>2.0</td>\n",
       "      <td>800.0</td>\n",
       "      <td>875.0</td>\n",
       "      <td>3.0</td>\n",
       "      <td>200</td>\n",
       "      <td>0.205844</td>\n",
       "      <td>0.85</td>\n",
       "      <td>43.131332</td>\n",
       "    </tr>\n",
       "  </tbody>\n",
       "</table>\n",
       "</div>"
      ],
      "text/plain": [
       "             frequency_cal  recency_cal  T_cal  frequency_holdout  \\\n",
       "customer_id                                                         \n",
       "33.0                   3.0         74.0  277.0                1.0   \n",
       "78.0                   2.0        449.0  592.0                0.0   \n",
       "96.0                   2.0        195.0  326.0                2.0   \n",
       "177.0                  0.0          0.0  548.0                0.0   \n",
       "190.0                  2.0        800.0  875.0                3.0   \n",
       "\n",
       "             duration_holdout  predicted_purchases  p_alive         clv  \n",
       "customer_id                                                              \n",
       "33.0                      200             0.295925     0.35   45.401124  \n",
       "78.0                      200             0.267794     0.79   15.148638  \n",
       "96.0                      200             0.392830     0.72  162.867630  \n",
       "177.0                     200             0.026813     0.29         NaN  \n",
       "190.0                     200             0.205844     0.85   43.131332  "
      ]
     },
     "execution_count": 36,
     "metadata": {},
     "output_type": "execute_result"
    }
   ],
   "source": [
    "summary_cal_holdout.head()"
   ]
  },
  {
   "cell_type": "code",
   "execution_count": 37,
   "metadata": {},
   "outputs": [],
   "source": [
    "summary_cal_holdout.reset_index(inplace=True)\n",
    "summary_cal_holdout.drop(['frequency_cal', 'recency_cal', 'T_cal', 'frequency_holdout', 'duration_holdout'], axis=1, inplace=True)\n",
    "returning_customers_summary.reset_index(inplace=True)"
   ]
  },
  {
   "cell_type": "code",
   "execution_count": 38,
   "metadata": {},
   "outputs": [],
   "source": [
    "clv = pd.merge(summary_cal_holdout, returning_customers_summary, how='left', on='customer_id')"
   ]
  },
  {
   "cell_type": "markdown",
   "metadata": {},
   "source": [
    "## Customer segmentation\n",
    "\n",
    "We are now going to take the dataframe that we duplicated earlier and use it to segment the customers based on their RFM values. \n",
    "\n",
    "First, lets recall what the dataset contains."
   ]
  },
  {
   "cell_type": "code",
   "execution_count": 39,
   "metadata": {},
   "outputs": [
    {
     "data": {
      "text/html": [
       "<div>\n",
       "<style scoped>\n",
       "    .dataframe tbody tr th:only-of-type {\n",
       "        vertical-align: middle;\n",
       "    }\n",
       "\n",
       "    .dataframe tbody tr th {\n",
       "        vertical-align: top;\n",
       "    }\n",
       "\n",
       "    .dataframe thead th {\n",
       "        text-align: right;\n",
       "    }\n",
       "</style>\n",
       "<table border=\"1\" class=\"dataframe\">\n",
       "  <thead>\n",
       "    <tr style=\"text-align: right;\">\n",
       "      <th></th>\n",
       "      <th>frequency</th>\n",
       "      <th>recency</th>\n",
       "      <th>T</th>\n",
       "      <th>monetary_value</th>\n",
       "    </tr>\n",
       "    <tr>\n",
       "      <th>customer_id</th>\n",
       "      <th></th>\n",
       "      <th></th>\n",
       "      <th></th>\n",
       "      <th></th>\n",
       "    </tr>\n",
       "  </thead>\n",
       "  <tbody>\n",
       "    <tr>\n",
       "      <th>33.0</th>\n",
       "      <td>4.0</td>\n",
       "      <td>434.0</td>\n",
       "      <td>477.0</td>\n",
       "      <td>68.020</td>\n",
       "    </tr>\n",
       "    <tr>\n",
       "      <th>78.0</th>\n",
       "      <td>2.0</td>\n",
       "      <td>449.0</td>\n",
       "      <td>792.0</td>\n",
       "      <td>80.300</td>\n",
       "    </tr>\n",
       "    <tr>\n",
       "      <th>96.0</th>\n",
       "      <td>4.0</td>\n",
       "      <td>479.0</td>\n",
       "      <td>526.0</td>\n",
       "      <td>267.145</td>\n",
       "    </tr>\n",
       "    <tr>\n",
       "      <th>177.0</th>\n",
       "      <td>0.0</td>\n",
       "      <td>0.0</td>\n",
       "      <td>748.0</td>\n",
       "      <td>0.000</td>\n",
       "    </tr>\n",
       "    <tr>\n",
       "      <th>190.0</th>\n",
       "      <td>5.0</td>\n",
       "      <td>1056.0</td>\n",
       "      <td>1075.0</td>\n",
       "      <td>104.328</td>\n",
       "    </tr>\n",
       "  </tbody>\n",
       "</table>\n",
       "</div>"
      ],
      "text/plain": [
       "             frequency  recency       T  monetary_value\n",
       "customer_id                                            \n",
       "33.0               4.0    434.0   477.0          68.020\n",
       "78.0               2.0    449.0   792.0          80.300\n",
       "96.0               4.0    479.0   526.0         267.145\n",
       "177.0              0.0      0.0   748.0           0.000\n",
       "190.0              5.0   1056.0  1075.0         104.328"
      ]
     },
     "execution_count": 39,
     "metadata": {},
     "output_type": "execute_result"
    }
   ],
   "source": [
    "segment.head()"
   ]
  },
  {
   "cell_type": "code",
   "execution_count": 40,
   "metadata": {},
   "outputs": [],
   "source": [
    "segment = segment[segment['frequency'] != 0]"
   ]
  },
  {
   "cell_type": "code",
   "execution_count": 41,
   "metadata": {},
   "outputs": [
    {
     "data": {
      "text/plain": [
       "{'frequency': {0.25: 1.0, 0.5: 2.0, 0.75: 5.0},\n",
       " 'recency': {0.25: 142.0, 0.5: 340.0, 0.75: 632.0},\n",
       " 'T': {0.25: 613.0, 0.5: 840.0, 0.75: 1023.0},\n",
       " 'monetary_value': {0.25: 74.86327777777778,\n",
       "  0.5: 115.46199999999999,\n",
       "  0.75: 168.49249999999998}}"
      ]
     },
     "execution_count": 41,
     "metadata": {},
     "output_type": "execute_result"
    }
   ],
   "source": [
    "'''\n",
    "First we will convert the rfm from continous values to quartile values.\n",
    "'''\n",
    "\n",
    "quantiles = segment.quantile(q=[0.25,0.5,0.75])\n",
    "quantiles = quantiles.to_dict()\n",
    "quantiles"
   ]
  },
  {
   "cell_type": "code",
   "execution_count": 42,
   "metadata": {},
   "outputs": [],
   "source": [
    "'''\n",
    "Set the re-naming protocol for the different quantiles.\n",
    "'''\n",
    "\n",
    "def RScore(x,p,d):\n",
    "    if x <= d[p][0.25]:\n",
    "        return 1\n",
    "    elif x <= d[p][0.50]:\n",
    "        return 2\n",
    "    elif x <= d[p][0.75]: \n",
    "        return 3\n",
    "    else:\n",
    "        return 4\n",
    "    \n",
    "def FMScore(x,p,d):\n",
    "    if x <= d[p][0.25]:\n",
    "        return 4\n",
    "    elif x <= d[p][0.50]:\n",
    "        return 3\n",
    "    elif x <= d[p][0.75]: \n",
    "        return 2\n",
    "    else:\n",
    "        return 1"
   ]
  },
  {
   "cell_type": "code",
   "execution_count": 43,
   "metadata": {},
   "outputs": [
    {
     "data": {
      "text/html": [
       "<div>\n",
       "<style scoped>\n",
       "    .dataframe tbody tr th:only-of-type {\n",
       "        vertical-align: middle;\n",
       "    }\n",
       "\n",
       "    .dataframe tbody tr th {\n",
       "        vertical-align: top;\n",
       "    }\n",
       "\n",
       "    .dataframe thead th {\n",
       "        text-align: right;\n",
       "    }\n",
       "</style>\n",
       "<table border=\"1\" class=\"dataframe\">\n",
       "  <thead>\n",
       "    <tr style=\"text-align: right;\">\n",
       "      <th></th>\n",
       "      <th>customer_id</th>\n",
       "      <th>frequency</th>\n",
       "      <th>recency</th>\n",
       "      <th>T</th>\n",
       "      <th>monetary_value</th>\n",
       "      <th>r_score</th>\n",
       "      <th>f_score</th>\n",
       "      <th>m_score</th>\n",
       "    </tr>\n",
       "  </thead>\n",
       "  <tbody>\n",
       "    <tr>\n",
       "      <th>0</th>\n",
       "      <td>33.0</td>\n",
       "      <td>4.0</td>\n",
       "      <td>434.0</td>\n",
       "      <td>477.0</td>\n",
       "      <td>68.020000</td>\n",
       "      <td>3</td>\n",
       "      <td>2</td>\n",
       "      <td>4</td>\n",
       "    </tr>\n",
       "    <tr>\n",
       "      <th>1</th>\n",
       "      <td>78.0</td>\n",
       "      <td>2.0</td>\n",
       "      <td>449.0</td>\n",
       "      <td>792.0</td>\n",
       "      <td>80.300000</td>\n",
       "      <td>3</td>\n",
       "      <td>3</td>\n",
       "      <td>3</td>\n",
       "    </tr>\n",
       "    <tr>\n",
       "      <th>2</th>\n",
       "      <td>96.0</td>\n",
       "      <td>4.0</td>\n",
       "      <td>479.0</td>\n",
       "      <td>526.0</td>\n",
       "      <td>267.145000</td>\n",
       "      <td>3</td>\n",
       "      <td>2</td>\n",
       "      <td>1</td>\n",
       "    </tr>\n",
       "    <tr>\n",
       "      <th>3</th>\n",
       "      <td>190.0</td>\n",
       "      <td>5.0</td>\n",
       "      <td>1056.0</td>\n",
       "      <td>1075.0</td>\n",
       "      <td>104.328000</td>\n",
       "      <td>4</td>\n",
       "      <td>2</td>\n",
       "      <td>3</td>\n",
       "    </tr>\n",
       "    <tr>\n",
       "      <th>4</th>\n",
       "      <td>253.0</td>\n",
       "      <td>9.0</td>\n",
       "      <td>700.0</td>\n",
       "      <td>1102.0</td>\n",
       "      <td>115.035556</td>\n",
       "      <td>4</td>\n",
       "      <td>1</td>\n",
       "      <td>3</td>\n",
       "    </tr>\n",
       "  </tbody>\n",
       "</table>\n",
       "</div>"
      ],
      "text/plain": [
       "   customer_id  frequency  recency       T  monetary_value  r_score  f_score  \\\n",
       "0         33.0        4.0    434.0   477.0       68.020000        3        2   \n",
       "1         78.0        2.0    449.0   792.0       80.300000        3        3   \n",
       "2         96.0        4.0    479.0   526.0      267.145000        3        2   \n",
       "3        190.0        5.0   1056.0  1075.0      104.328000        4        2   \n",
       "4        253.0        9.0    700.0  1102.0      115.035556        4        1   \n",
       "\n",
       "   m_score  \n",
       "0        4  \n",
       "1        3  \n",
       "2        1  \n",
       "3        3  \n",
       "4        3  "
      ]
     },
     "execution_count": 43,
     "metadata": {},
     "output_type": "execute_result"
    }
   ],
   "source": [
    "segment['r_score'] = segment['recency'].apply(RScore, args=('recency',quantiles,))\n",
    "segment['f_score'] = segment['frequency'].apply(FMScore, args=('frequency',quantiles,))\n",
    "segment['m_score'] = segment['monetary_value'].apply(FMScore, args=('monetary_value',quantiles,))\n",
    "segment.reset_index(inplace=True)\n",
    "segment.head()"
   ]
  },
  {
   "cell_type": "code",
   "execution_count": 44,
   "metadata": {},
   "outputs": [],
   "source": [
    "'''\n",
    "Now we separate out the quartile columns into a new table to perform the segmentation.\n",
    "'''\n",
    "\n",
    "rfmTableScores = segment[['customer_id','r_score', 'f_score', 'm_score']].copy()"
   ]
  },
  {
   "cell_type": "code",
   "execution_count": 45,
   "metadata": {},
   "outputs": [],
   "source": [
    "rfmTableScores.set_index('customer_id', inplace=True)"
   ]
  },
  {
   "cell_type": "markdown",
   "metadata": {},
   "source": [
    "I decided to segment the customer base using K-Means clustering, as I would expect neighbouring obervations to exhibit similar purchasing behaviours. But first I need to determine the optimal number of clusters."
   ]
  },
  {
   "cell_type": "code",
   "execution_count": 46,
   "metadata": {},
   "outputs": [],
   "source": [
    "from sklearn.cluster import KMeans\n",
    "\n",
    "wcss = []\n",
    "for i in range(1,11):\n",
    "    kmeans = KMeans(n_clusters=i, init='k-means++', random_state=0)\n",
    "    kmeans.fit(rfmTableScores)\n",
    "    wcss.append(kmeans.inertia_)"
   ]
  },
  {
   "cell_type": "code",
   "execution_count": 47,
   "metadata": {},
   "outputs": [
    {
     "data": {
      "image/png": "[encoded data removed]",
      "text/plain": [
       "<Figure size 980x630 with 1 Axes>"
      ]
     },
     "metadata": {},
     "output_type": "display_data"
    }
   ],
   "source": [
    "plt.plot(range(1,11), wcss)\n",
    "plt.title('Elbow graph')\n",
    "plt.xlabel('Cluster number')\n",
    "plt.ylabel('WCSS')\n",
    "plt.show()"
   ]
  },
  {
   "cell_type": "markdown",
   "metadata": {},
   "source": [
    "From the above elbow graph, we can see a very clear distinction between at 2 groups, and pretty marginal difference after that, flattening out again beyond 5 clusters. Accordingly, I decided to cluster the datapoint around 5 centroids to try and provide optimal segmentation."
   ]
  },
  {
   "cell_type": "code",
   "execution_count": 48,
   "metadata": {},
   "outputs": [],
   "source": [
    "kmeans = KMeans(n_clusters=5, init='k-means++', random_state=0)\n",
    "clusters = kmeans.fit_predict(rfmTableScores)"
   ]
  },
  {
   "cell_type": "code",
   "execution_count": 49,
   "metadata": {},
   "outputs": [
    {
     "data": {
      "text/html": [
       "<div>\n",
       "<style scoped>\n",
       "    .dataframe tbody tr th:only-of-type {\n",
       "        vertical-align: middle;\n",
       "    }\n",
       "\n",
       "    .dataframe tbody tr th {\n",
       "        vertical-align: top;\n",
       "    }\n",
       "\n",
       "    .dataframe thead th {\n",
       "        text-align: right;\n",
       "    }\n",
       "</style>\n",
       "<table border=\"1\" class=\"dataframe\">\n",
       "  <thead>\n",
       "    <tr style=\"text-align: right;\">\n",
       "      <th></th>\n",
       "      <th>customer_id</th>\n",
       "      <th>frequency</th>\n",
       "      <th>recency</th>\n",
       "      <th>T</th>\n",
       "      <th>monetary_value</th>\n",
       "      <th>r_score</th>\n",
       "      <th>f_score</th>\n",
       "      <th>m_score</th>\n",
       "      <th>clusters</th>\n",
       "    </tr>\n",
       "  </thead>\n",
       "  <tbody>\n",
       "    <tr>\n",
       "      <th>0</th>\n",
       "      <td>33.0</td>\n",
       "      <td>4.0</td>\n",
       "      <td>434.0</td>\n",
       "      <td>477.0</td>\n",
       "      <td>68.020000</td>\n",
       "      <td>3</td>\n",
       "      <td>2</td>\n",
       "      <td>4</td>\n",
       "      <td>0</td>\n",
       "    </tr>\n",
       "    <tr>\n",
       "      <th>1</th>\n",
       "      <td>78.0</td>\n",
       "      <td>2.0</td>\n",
       "      <td>449.0</td>\n",
       "      <td>792.0</td>\n",
       "      <td>80.300000</td>\n",
       "      <td>3</td>\n",
       "      <td>3</td>\n",
       "      <td>3</td>\n",
       "      <td>4</td>\n",
       "    </tr>\n",
       "    <tr>\n",
       "      <th>2</th>\n",
       "      <td>96.0</td>\n",
       "      <td>4.0</td>\n",
       "      <td>479.0</td>\n",
       "      <td>526.0</td>\n",
       "      <td>267.145000</td>\n",
       "      <td>3</td>\n",
       "      <td>2</td>\n",
       "      <td>1</td>\n",
       "      <td>2</td>\n",
       "    </tr>\n",
       "    <tr>\n",
       "      <th>3</th>\n",
       "      <td>190.0</td>\n",
       "      <td>5.0</td>\n",
       "      <td>1056.0</td>\n",
       "      <td>1075.0</td>\n",
       "      <td>104.328000</td>\n",
       "      <td>4</td>\n",
       "      <td>2</td>\n",
       "      <td>3</td>\n",
       "      <td>0</td>\n",
       "    </tr>\n",
       "    <tr>\n",
       "      <th>4</th>\n",
       "      <td>253.0</td>\n",
       "      <td>9.0</td>\n",
       "      <td>700.0</td>\n",
       "      <td>1102.0</td>\n",
       "      <td>115.035556</td>\n",
       "      <td>4</td>\n",
       "      <td>1</td>\n",
       "      <td>3</td>\n",
       "      <td>0</td>\n",
       "    </tr>\n",
       "  </tbody>\n",
       "</table>\n",
       "</div>"
      ],
      "text/plain": [
       "   customer_id  frequency  recency       T  monetary_value  r_score  f_score  \\\n",
       "0         33.0        4.0    434.0   477.0       68.020000        3        2   \n",
       "1         78.0        2.0    449.0   792.0       80.300000        3        3   \n",
       "2         96.0        4.0    479.0   526.0      267.145000        3        2   \n",
       "3        190.0        5.0   1056.0  1075.0      104.328000        4        2   \n",
       "4        253.0        9.0    700.0  1102.0      115.035556        4        1   \n",
       "\n",
       "   m_score  clusters  \n",
       "0        4         0  \n",
       "1        3         4  \n",
       "2        1         2  \n",
       "3        3         0  \n",
       "4        3         0  "
      ]
     },
     "execution_count": 49,
     "metadata": {},
     "output_type": "execute_result"
    }
   ],
   "source": [
    "segment['clusters'] = clusters\n",
    "segment.head()"
   ]
  },
  {
   "cell_type": "code",
   "execution_count": 50,
   "metadata": {},
   "outputs": [
    {
     "data": {
      "text/plain": [
       "3    8116\n",
       "2    7833\n",
       "0    6781\n",
       "1    6013\n",
       "4    3757\n",
       "Name: clusters, dtype: int64"
      ]
     },
     "execution_count": 50,
     "metadata": {},
     "output_type": "execute_result"
    }
   ],
   "source": [
    "segment.clusters.value_counts()"
   ]
  },
  {
   "cell_type": "code",
   "execution_count": 51,
   "metadata": {},
   "outputs": [
    {
     "data": {
      "text/plain": [
       "2    8137\n",
       "3    8132\n",
       "1    8127\n",
       "4    8104\n",
       "Name: r_score, dtype: int64"
      ]
     },
     "execution_count": 51,
     "metadata": {},
     "output_type": "execute_result"
    }
   ],
   "source": [
    "segment.r_score.value_counts()"
   ]
  },
  {
   "cell_type": "code",
   "execution_count": 52,
   "metadata": {},
   "outputs": [
    {
     "data": {
      "text/html": [
       "<div>\n",
       "<style scoped>\n",
       "    .dataframe tbody tr th:only-of-type {\n",
       "        vertical-align: middle;\n",
       "    }\n",
       "\n",
       "    .dataframe tbody tr th {\n",
       "        vertical-align: top;\n",
       "    }\n",
       "\n",
       "    .dataframe thead th {\n",
       "        text-align: right;\n",
       "    }\n",
       "</style>\n",
       "<table border=\"1\" class=\"dataframe\">\n",
       "  <thead>\n",
       "    <tr style=\"text-align: right;\">\n",
       "      <th></th>\n",
       "      <th>customer_id</th>\n",
       "      <th>frequency</th>\n",
       "      <th>recency</th>\n",
       "      <th>T</th>\n",
       "      <th>monetary_value</th>\n",
       "      <th>r_score</th>\n",
       "      <th>f_score</th>\n",
       "      <th>m_score</th>\n",
       "      <th>clusters</th>\n",
       "    </tr>\n",
       "  </thead>\n",
       "  <tbody>\n",
       "    <tr>\n",
       "      <th>0</th>\n",
       "      <td>33.0</td>\n",
       "      <td>4.0</td>\n",
       "      <td>434.0</td>\n",
       "      <td>477.0</td>\n",
       "      <td>68.020000</td>\n",
       "      <td>3</td>\n",
       "      <td>2</td>\n",
       "      <td>4</td>\n",
       "      <td>0</td>\n",
       "    </tr>\n",
       "    <tr>\n",
       "      <th>3</th>\n",
       "      <td>190.0</td>\n",
       "      <td>5.0</td>\n",
       "      <td>1056.0</td>\n",
       "      <td>1075.0</td>\n",
       "      <td>104.328000</td>\n",
       "      <td>4</td>\n",
       "      <td>2</td>\n",
       "      <td>3</td>\n",
       "      <td>0</td>\n",
       "    </tr>\n",
       "    <tr>\n",
       "      <th>4</th>\n",
       "      <td>253.0</td>\n",
       "      <td>9.0</td>\n",
       "      <td>700.0</td>\n",
       "      <td>1102.0</td>\n",
       "      <td>115.035556</td>\n",
       "      <td>4</td>\n",
       "      <td>1</td>\n",
       "      <td>3</td>\n",
       "      <td>0</td>\n",
       "    </tr>\n",
       "    <tr>\n",
       "      <th>10</th>\n",
       "      <td>655.0</td>\n",
       "      <td>6.0</td>\n",
       "      <td>570.0</td>\n",
       "      <td>1019.0</td>\n",
       "      <td>102.511667</td>\n",
       "      <td>3</td>\n",
       "      <td>1</td>\n",
       "      <td>3</td>\n",
       "      <td>0</td>\n",
       "    </tr>\n",
       "    <tr>\n",
       "      <th>12</th>\n",
       "      <td>742.0</td>\n",
       "      <td>3.0</td>\n",
       "      <td>161.0</td>\n",
       "      <td>1065.0</td>\n",
       "      <td>87.020000</td>\n",
       "      <td>2</td>\n",
       "      <td>2</td>\n",
       "      <td>3</td>\n",
       "      <td>0</td>\n",
       "    </tr>\n",
       "  </tbody>\n",
       "</table>\n",
       "</div>"
      ],
      "text/plain": [
       "    customer_id  frequency  recency       T  monetary_value  r_score  f_score  \\\n",
       "0          33.0        4.0    434.0   477.0       68.020000        3        2   \n",
       "3         190.0        5.0   1056.0  1075.0      104.328000        4        2   \n",
       "4         253.0        9.0    700.0  1102.0      115.035556        4        1   \n",
       "10        655.0        6.0    570.0  1019.0      102.511667        3        1   \n",
       "12        742.0        3.0    161.0  1065.0       87.020000        2        2   \n",
       "\n",
       "    m_score  clusters  \n",
       "0         4         0  \n",
       "3         3         0  \n",
       "4         3         0  \n",
       "10        3         0  \n",
       "12        3         0  "
      ]
     },
     "execution_count": 52,
     "metadata": {},
     "output_type": "execute_result"
    }
   ],
   "source": [
    "'''\n",
    "By analysing each cluster we can assess which customer type it is predominantly made of, and then assign it a more\n",
    "descriptive tag. I do this for all clusters before providing descriptors.\n",
    "\n",
    "\n",
    "We can observe that this cluster is the segment representing small, non repeat purchasers that have purchased recently,\n",
    "I call these missing loyal spenders.\n",
    "'''\n",
    "\n",
    "segment[segment.clusters == 0].head()"
   ]
  },
  {
   "cell_type": "code",
   "execution_count": 53,
   "metadata": {},
   "outputs": [
    {
     "data": {
      "text/html": [
       "<div>\n",
       "<style scoped>\n",
       "    .dataframe tbody tr th:only-of-type {\n",
       "        vertical-align: middle;\n",
       "    }\n",
       "\n",
       "    .dataframe tbody tr th {\n",
       "        vertical-align: top;\n",
       "    }\n",
       "\n",
       "    .dataframe thead th {\n",
       "        text-align: right;\n",
       "    }\n",
       "</style>\n",
       "<table border=\"1\" class=\"dataframe\">\n",
       "  <thead>\n",
       "    <tr style=\"text-align: right;\">\n",
       "      <th></th>\n",
       "      <th>customer_id</th>\n",
       "      <th>frequency</th>\n",
       "      <th>recency</th>\n",
       "      <th>T</th>\n",
       "      <th>monetary_value</th>\n",
       "      <th>r_score</th>\n",
       "      <th>f_score</th>\n",
       "      <th>m_score</th>\n",
       "      <th>clusters</th>\n",
       "    </tr>\n",
       "  </thead>\n",
       "  <tbody>\n",
       "    <tr>\n",
       "      <th>19</th>\n",
       "      <td>1073.0</td>\n",
       "      <td>1.0</td>\n",
       "      <td>30.0</td>\n",
       "      <td>67.0</td>\n",
       "      <td>463.92</td>\n",
       "      <td>1</td>\n",
       "      <td>4</td>\n",
       "      <td>1</td>\n",
       "      <td>1</td>\n",
       "    </tr>\n",
       "    <tr>\n",
       "      <th>31</th>\n",
       "      <td>2223.0</td>\n",
       "      <td>2.0</td>\n",
       "      <td>227.0</td>\n",
       "      <td>1092.0</td>\n",
       "      <td>126.74</td>\n",
       "      <td>2</td>\n",
       "      <td>3</td>\n",
       "      <td>2</td>\n",
       "      <td>1</td>\n",
       "    </tr>\n",
       "    <tr>\n",
       "      <th>40</th>\n",
       "      <td>2704.0</td>\n",
       "      <td>1.0</td>\n",
       "      <td>296.0</td>\n",
       "      <td>906.0</td>\n",
       "      <td>143.88</td>\n",
       "      <td>2</td>\n",
       "      <td>4</td>\n",
       "      <td>2</td>\n",
       "      <td>1</td>\n",
       "    </tr>\n",
       "    <tr>\n",
       "      <th>42</th>\n",
       "      <td>2737.0</td>\n",
       "      <td>1.0</td>\n",
       "      <td>101.0</td>\n",
       "      <td>329.0</td>\n",
       "      <td>146.92</td>\n",
       "      <td>1</td>\n",
       "      <td>4</td>\n",
       "      <td>2</td>\n",
       "      <td>1</td>\n",
       "    </tr>\n",
       "    <tr>\n",
       "      <th>43</th>\n",
       "      <td>2743.0</td>\n",
       "      <td>1.0</td>\n",
       "      <td>66.0</td>\n",
       "      <td>952.0</td>\n",
       "      <td>202.40</td>\n",
       "      <td>1</td>\n",
       "      <td>4</td>\n",
       "      <td>1</td>\n",
       "      <td>1</td>\n",
       "    </tr>\n",
       "  </tbody>\n",
       "</table>\n",
       "</div>"
      ],
      "text/plain": [
       "    customer_id  frequency  recency       T  monetary_value  r_score  f_score  \\\n",
       "19       1073.0        1.0     30.0    67.0          463.92        1        4   \n",
       "31       2223.0        2.0    227.0  1092.0          126.74        2        3   \n",
       "40       2704.0        1.0    296.0   906.0          143.88        2        4   \n",
       "42       2737.0        1.0    101.0   329.0          146.92        1        4   \n",
       "43       2743.0        1.0     66.0   952.0          202.40        1        4   \n",
       "\n",
       "    m_score  clusters  \n",
       "19        1         1  \n",
       "31        2         1  \n",
       "40        2         1  \n",
       "42        2         1  \n",
       "43        1         1  "
      ]
     },
     "execution_count": 53,
     "metadata": {},
     "output_type": "execute_result"
    }
   ],
   "source": [
    "'''\n",
    "The big spenders.\n",
    "'''\n",
    "\n",
    "segment[segment.clusters == 1].head()"
   ]
  },
  {
   "cell_type": "code",
   "execution_count": 54,
   "metadata": {},
   "outputs": [
    {
     "data": {
      "text/html": [
       "<div>\n",
       "<style scoped>\n",
       "    .dataframe tbody tr th:only-of-type {\n",
       "        vertical-align: middle;\n",
       "    }\n",
       "\n",
       "    .dataframe tbody tr th {\n",
       "        vertical-align: top;\n",
       "    }\n",
       "\n",
       "    .dataframe thead th {\n",
       "        text-align: right;\n",
       "    }\n",
       "</style>\n",
       "<table border=\"1\" class=\"dataframe\">\n",
       "  <thead>\n",
       "    <tr style=\"text-align: right;\">\n",
       "      <th></th>\n",
       "      <th>customer_id</th>\n",
       "      <th>frequency</th>\n",
       "      <th>recency</th>\n",
       "      <th>T</th>\n",
       "      <th>monetary_value</th>\n",
       "      <th>r_score</th>\n",
       "      <th>f_score</th>\n",
       "      <th>m_score</th>\n",
       "      <th>clusters</th>\n",
       "    </tr>\n",
       "  </thead>\n",
       "  <tbody>\n",
       "    <tr>\n",
       "      <th>2</th>\n",
       "      <td>96.0</td>\n",
       "      <td>4.0</td>\n",
       "      <td>479.0</td>\n",
       "      <td>526.0</td>\n",
       "      <td>267.145000</td>\n",
       "      <td>3</td>\n",
       "      <td>2</td>\n",
       "      <td>1</td>\n",
       "      <td>2</td>\n",
       "    </tr>\n",
       "    <tr>\n",
       "      <th>6</th>\n",
       "      <td>325.0</td>\n",
       "      <td>9.0</td>\n",
       "      <td>757.0</td>\n",
       "      <td>1099.0</td>\n",
       "      <td>153.416667</td>\n",
       "      <td>4</td>\n",
       "      <td>1</td>\n",
       "      <td>2</td>\n",
       "      <td>2</td>\n",
       "    </tr>\n",
       "    <tr>\n",
       "      <th>7</th>\n",
       "      <td>525.0</td>\n",
       "      <td>3.0</td>\n",
       "      <td>1027.0</td>\n",
       "      <td>1070.0</td>\n",
       "      <td>125.000000</td>\n",
       "      <td>4</td>\n",
       "      <td>2</td>\n",
       "      <td>2</td>\n",
       "      <td>2</td>\n",
       "    </tr>\n",
       "    <tr>\n",
       "      <th>8</th>\n",
       "      <td>527.0</td>\n",
       "      <td>6.0</td>\n",
       "      <td>964.0</td>\n",
       "      <td>985.0</td>\n",
       "      <td>290.443333</td>\n",
       "      <td>4</td>\n",
       "      <td>1</td>\n",
       "      <td>1</td>\n",
       "      <td>2</td>\n",
       "    </tr>\n",
       "    <tr>\n",
       "      <th>9</th>\n",
       "      <td>580.0</td>\n",
       "      <td>3.0</td>\n",
       "      <td>208.0</td>\n",
       "      <td>744.0</td>\n",
       "      <td>157.630000</td>\n",
       "      <td>2</td>\n",
       "      <td>2</td>\n",
       "      <td>2</td>\n",
       "      <td>2</td>\n",
       "    </tr>\n",
       "  </tbody>\n",
       "</table>\n",
       "</div>"
      ],
      "text/plain": [
       "   customer_id  frequency  recency       T  monetary_value  r_score  f_score  \\\n",
       "2         96.0        4.0    479.0   526.0      267.145000        3        2   \n",
       "6        325.0        9.0    757.0  1099.0      153.416667        4        1   \n",
       "7        525.0        3.0   1027.0  1070.0      125.000000        4        2   \n",
       "8        527.0        6.0    964.0   985.0      290.443333        4        1   \n",
       "9        580.0        3.0    208.0   744.0      157.630000        2        2   \n",
       "\n",
       "   m_score  clusters  \n",
       "2        1         2  \n",
       "6        2         2  \n",
       "7        2         2  \n",
       "8        1         2  \n",
       "9        2         2  "
      ]
     },
     "execution_count": 54,
     "metadata": {},
     "output_type": "execute_result"
    }
   ],
   "source": [
    "'''\n",
    "The missing loyal big spenders.\n",
    "'''\n",
    "\n",
    "segment[segment.clusters == 2].head()"
   ]
  },
  {
   "cell_type": "code",
   "execution_count": 55,
   "metadata": {},
   "outputs": [
    {
     "data": {
      "text/html": [
       "<div>\n",
       "<style scoped>\n",
       "    .dataframe tbody tr th:only-of-type {\n",
       "        vertical-align: middle;\n",
       "    }\n",
       "\n",
       "    .dataframe tbody tr th {\n",
       "        vertical-align: top;\n",
       "    }\n",
       "\n",
       "    .dataframe thead th {\n",
       "        text-align: right;\n",
       "    }\n",
       "</style>\n",
       "<table border=\"1\" class=\"dataframe\">\n",
       "  <thead>\n",
       "    <tr style=\"text-align: right;\">\n",
       "      <th></th>\n",
       "      <th>customer_id</th>\n",
       "      <th>frequency</th>\n",
       "      <th>recency</th>\n",
       "      <th>T</th>\n",
       "      <th>monetary_value</th>\n",
       "      <th>r_score</th>\n",
       "      <th>f_score</th>\n",
       "      <th>m_score</th>\n",
       "      <th>clusters</th>\n",
       "    </tr>\n",
       "  </thead>\n",
       "  <tbody>\n",
       "    <tr>\n",
       "      <th>17</th>\n",
       "      <td>967.0</td>\n",
       "      <td>2.0</td>\n",
       "      <td>248.0</td>\n",
       "      <td>354.0</td>\n",
       "      <td>14.925</td>\n",
       "      <td>2</td>\n",
       "      <td>3</td>\n",
       "      <td>4</td>\n",
       "      <td>3</td>\n",
       "    </tr>\n",
       "    <tr>\n",
       "      <th>27</th>\n",
       "      <td>1937.0</td>\n",
       "      <td>2.0</td>\n",
       "      <td>166.0</td>\n",
       "      <td>943.0</td>\n",
       "      <td>103.900</td>\n",
       "      <td>2</td>\n",
       "      <td>3</td>\n",
       "      <td>3</td>\n",
       "      <td>3</td>\n",
       "    </tr>\n",
       "    <tr>\n",
       "      <th>32</th>\n",
       "      <td>2280.0</td>\n",
       "      <td>1.0</td>\n",
       "      <td>28.0</td>\n",
       "      <td>859.0</td>\n",
       "      <td>78.910</td>\n",
       "      <td>1</td>\n",
       "      <td>4</td>\n",
       "      <td>3</td>\n",
       "      <td>3</td>\n",
       "    </tr>\n",
       "    <tr>\n",
       "      <th>51</th>\n",
       "      <td>3056.0</td>\n",
       "      <td>2.0</td>\n",
       "      <td>91.0</td>\n",
       "      <td>109.0</td>\n",
       "      <td>9.980</td>\n",
       "      <td>1</td>\n",
       "      <td>3</td>\n",
       "      <td>4</td>\n",
       "      <td>3</td>\n",
       "    </tr>\n",
       "    <tr>\n",
       "      <th>53</th>\n",
       "      <td>3257.0</td>\n",
       "      <td>1.0</td>\n",
       "      <td>165.0</td>\n",
       "      <td>790.0</td>\n",
       "      <td>113.950</td>\n",
       "      <td>2</td>\n",
       "      <td>4</td>\n",
       "      <td>3</td>\n",
       "      <td>3</td>\n",
       "    </tr>\n",
       "  </tbody>\n",
       "</table>\n",
       "</div>"
      ],
      "text/plain": [
       "    customer_id  frequency  recency      T  monetary_value  r_score  f_score  \\\n",
       "17        967.0        2.0    248.0  354.0          14.925        2        3   \n",
       "27       1937.0        2.0    166.0  943.0         103.900        2        3   \n",
       "32       2280.0        1.0     28.0  859.0          78.910        1        4   \n",
       "51       3056.0        2.0     91.0  109.0           9.980        1        3   \n",
       "53       3257.0        1.0    165.0  790.0         113.950        2        4   \n",
       "\n",
       "    m_score  clusters  \n",
       "17        4         3  \n",
       "27        3         3  \n",
       "32        3         3  \n",
       "51        4         3  \n",
       "53        3         3  "
      ]
     },
     "execution_count": 55,
     "metadata": {},
     "output_type": "execute_result"
    }
   ],
   "source": [
    "'''\n",
    "The small spenders.\n",
    "'''\n",
    "\n",
    "segment[segment.clusters == 3].head()"
   ]
  },
  {
   "cell_type": "code",
   "execution_count": 56,
   "metadata": {},
   "outputs": [
    {
     "data": {
      "text/html": [
       "<div>\n",
       "<style scoped>\n",
       "    .dataframe tbody tr th:only-of-type {\n",
       "        vertical-align: middle;\n",
       "    }\n",
       "\n",
       "    .dataframe tbody tr th {\n",
       "        vertical-align: top;\n",
       "    }\n",
       "\n",
       "    .dataframe thead th {\n",
       "        text-align: right;\n",
       "    }\n",
       "</style>\n",
       "<table border=\"1\" class=\"dataframe\">\n",
       "  <thead>\n",
       "    <tr style=\"text-align: right;\">\n",
       "      <th></th>\n",
       "      <th>customer_id</th>\n",
       "      <th>frequency</th>\n",
       "      <th>recency</th>\n",
       "      <th>T</th>\n",
       "      <th>monetary_value</th>\n",
       "      <th>r_score</th>\n",
       "      <th>f_score</th>\n",
       "      <th>m_score</th>\n",
       "      <th>clusters</th>\n",
       "    </tr>\n",
       "  </thead>\n",
       "  <tbody>\n",
       "    <tr>\n",
       "      <th>1</th>\n",
       "      <td>78.0</td>\n",
       "      <td>2.0</td>\n",
       "      <td>449.0</td>\n",
       "      <td>792.0</td>\n",
       "      <td>80.300</td>\n",
       "      <td>3</td>\n",
       "      <td>3</td>\n",
       "      <td>3</td>\n",
       "      <td>4</td>\n",
       "    </tr>\n",
       "    <tr>\n",
       "      <th>5</th>\n",
       "      <td>273.0</td>\n",
       "      <td>1.0</td>\n",
       "      <td>547.0</td>\n",
       "      <td>906.0</td>\n",
       "      <td>107.750</td>\n",
       "      <td>3</td>\n",
       "      <td>4</td>\n",
       "      <td>3</td>\n",
       "      <td>4</td>\n",
       "    </tr>\n",
       "    <tr>\n",
       "      <th>13</th>\n",
       "      <td>912.0</td>\n",
       "      <td>2.0</td>\n",
       "      <td>824.0</td>\n",
       "      <td>1077.0</td>\n",
       "      <td>245.945</td>\n",
       "      <td>4</td>\n",
       "      <td>3</td>\n",
       "      <td>1</td>\n",
       "      <td>4</td>\n",
       "    </tr>\n",
       "    <tr>\n",
       "      <th>14</th>\n",
       "      <td>919.0</td>\n",
       "      <td>1.0</td>\n",
       "      <td>381.0</td>\n",
       "      <td>548.0</td>\n",
       "      <td>180.950</td>\n",
       "      <td>3</td>\n",
       "      <td>4</td>\n",
       "      <td>1</td>\n",
       "      <td>4</td>\n",
       "    </tr>\n",
       "    <tr>\n",
       "      <th>23</th>\n",
       "      <td>1613.0</td>\n",
       "      <td>2.0</td>\n",
       "      <td>462.0</td>\n",
       "      <td>805.0</td>\n",
       "      <td>120.975</td>\n",
       "      <td>3</td>\n",
       "      <td>3</td>\n",
       "      <td>2</td>\n",
       "      <td>4</td>\n",
       "    </tr>\n",
       "  </tbody>\n",
       "</table>\n",
       "</div>"
      ],
      "text/plain": [
       "    customer_id  frequency  recency       T  monetary_value  r_score  f_score  \\\n",
       "1          78.0        2.0    449.0   792.0          80.300        3        3   \n",
       "5         273.0        1.0    547.0   906.0         107.750        3        4   \n",
       "13        912.0        2.0    824.0  1077.0         245.945        4        3   \n",
       "14        919.0        1.0    381.0   548.0         180.950        3        4   \n",
       "23       1613.0        2.0    462.0   805.0         120.975        3        3   \n",
       "\n",
       "    m_score  clusters  \n",
       "1         3         4  \n",
       "5         3         4  \n",
       "13        1         4  \n",
       "14        1         4  \n",
       "23        2         4  "
      ]
     },
     "execution_count": 56,
     "metadata": {},
     "output_type": "execute_result"
    }
   ],
   "source": [
    "'''\n",
    "The missing spenders.\n",
    "'''\n",
    "\n",
    "segment[segment.clusters == 4].head()"
   ]
  },
  {
   "cell_type": "code",
   "execution_count": 57,
   "metadata": {},
   "outputs": [],
   "source": [
    "'''\n",
    "I then amend the dataframe with these new descriptors.\n",
    "'''\n",
    "\n",
    "m1 = segment.clusters == 0\n",
    "m2 = segment.clusters == 1\n",
    "m3 = segment.clusters == 2\n",
    "m4 = segment.clusters == 3\n",
    "m5 = segment.clusters == 4\n",
    "\n",
    "segment['group'] = np.select([m1, m2, m3, m4, m5], ['missing loyal spenders', 'big spenders',\n",
    "                                                    'missing loyal big spenders', 'small spenders', \n",
    "                                                    'missing spenders'], default=0)"
   ]
  },
  {
   "cell_type": "code",
   "execution_count": 58,
   "metadata": {},
   "outputs": [],
   "source": [
    "''' \n",
    "We can then suggest some personalised strategies for each of these market segments.\n",
    "'''\n",
    "\n",
    "m1 = segment.clusters == 0\n",
    "m2 = segment.clusters == 1\n",
    "m3 = segment.clusters == 2\n",
    "m4 = segment.clusters == 3\n",
    "m5 = segment.clusters == 4\n",
    "\n",
    "segment['strategy'] = np.select([m1, m2, m3, m4, m5], ['Push upsell, target complementary purchases', \n",
    "                                                       'Target with new products, loyalty programs',\n",
    "                                                       'Target with price incentives, complementary purchases',\n",
    "                                                       'Push upsell, loyalty program',\n",
    "                                                       'Push upsell, target with price incentives'], default=0)\n"
   ]
  },
  {
   "cell_type": "markdown",
   "metadata": {},
   "source": [
    "## Combine dataframes\n",
    "\n",
    "We will now combine the segmentation dataframe with the predictive modelling one to return a complete dataset that can be exported into Tableau to dashboarding."
   ]
  },
  {
   "cell_type": "code",
   "execution_count": 59,
   "metadata": {},
   "outputs": [],
   "source": [
    "segment.drop(['frequency', 'recency', 'T', 'monetary_value'], axis=1, inplace=True)"
   ]
  },
  {
   "cell_type": "code",
   "execution_count": 60,
   "metadata": {},
   "outputs": [
    {
     "data": {
      "text/html": [
       "<div>\n",
       "<style scoped>\n",
       "    .dataframe tbody tr th:only-of-type {\n",
       "        vertical-align: middle;\n",
       "    }\n",
       "\n",
       "    .dataframe tbody tr th {\n",
       "        vertical-align: top;\n",
       "    }\n",
       "\n",
       "    .dataframe thead th {\n",
       "        text-align: right;\n",
       "    }\n",
       "</style>\n",
       "<table border=\"1\" class=\"dataframe\">\n",
       "  <thead>\n",
       "    <tr style=\"text-align: right;\">\n",
       "      <th></th>\n",
       "      <th>customer_id</th>\n",
       "      <th>r_score</th>\n",
       "      <th>f_score</th>\n",
       "      <th>m_score</th>\n",
       "      <th>clusters</th>\n",
       "      <th>group</th>\n",
       "      <th>strategy</th>\n",
       "    </tr>\n",
       "  </thead>\n",
       "  <tbody>\n",
       "    <tr>\n",
       "      <th>0</th>\n",
       "      <td>33.0</td>\n",
       "      <td>3</td>\n",
       "      <td>2</td>\n",
       "      <td>4</td>\n",
       "      <td>0</td>\n",
       "      <td>missing loyal spenders</td>\n",
       "      <td>Push upsell, target complementary purchases</td>\n",
       "    </tr>\n",
       "    <tr>\n",
       "      <th>1</th>\n",
       "      <td>78.0</td>\n",
       "      <td>3</td>\n",
       "      <td>3</td>\n",
       "      <td>3</td>\n",
       "      <td>4</td>\n",
       "      <td>missing spenders</td>\n",
       "      <td>Push upsell, target with price incentives</td>\n",
       "    </tr>\n",
       "    <tr>\n",
       "      <th>2</th>\n",
       "      <td>96.0</td>\n",
       "      <td>3</td>\n",
       "      <td>2</td>\n",
       "      <td>1</td>\n",
       "      <td>2</td>\n",
       "      <td>missing loyal big spenders</td>\n",
       "      <td>Target with price incentives, complementary pu...</td>\n",
       "    </tr>\n",
       "    <tr>\n",
       "      <th>3</th>\n",
       "      <td>190.0</td>\n",
       "      <td>4</td>\n",
       "      <td>2</td>\n",
       "      <td>3</td>\n",
       "      <td>0</td>\n",
       "      <td>missing loyal spenders</td>\n",
       "      <td>Push upsell, target complementary purchases</td>\n",
       "    </tr>\n",
       "    <tr>\n",
       "      <th>4</th>\n",
       "      <td>253.0</td>\n",
       "      <td>4</td>\n",
       "      <td>1</td>\n",
       "      <td>3</td>\n",
       "      <td>0</td>\n",
       "      <td>missing loyal spenders</td>\n",
       "      <td>Push upsell, target complementary purchases</td>\n",
       "    </tr>\n",
       "  </tbody>\n",
       "</table>\n",
       "</div>"
      ],
      "text/plain": [
       "   customer_id  r_score  f_score  m_score  clusters  \\\n",
       "0         33.0        3        2        4         0   \n",
       "1         78.0        3        3        3         4   \n",
       "2         96.0        3        2        1         2   \n",
       "3        190.0        4        2        3         0   \n",
       "4        253.0        4        1        3         0   \n",
       "\n",
       "                        group  \\\n",
       "0      missing loyal spenders   \n",
       "1            missing spenders   \n",
       "2  missing loyal big spenders   \n",
       "3      missing loyal spenders   \n",
       "4      missing loyal spenders   \n",
       "\n",
       "                                            strategy  \n",
       "0        Push upsell, target complementary purchases  \n",
       "1          Push upsell, target with price incentives  \n",
       "2  Target with price incentives, complementary pu...  \n",
       "3        Push upsell, target complementary purchases  \n",
       "4        Push upsell, target complementary purchases  "
      ]
     },
     "execution_count": 60,
     "metadata": {},
     "output_type": "execute_result"
    }
   ],
   "source": [
    "segment.head()"
   ]
  },
  {
   "cell_type": "code",
   "execution_count": 61,
   "metadata": {},
   "outputs": [
    {
     "data": {
      "text/html": [
       "<div>\n",
       "<style scoped>\n",
       "    .dataframe tbody tr th:only-of-type {\n",
       "        vertical-align: middle;\n",
       "    }\n",
       "\n",
       "    .dataframe tbody tr th {\n",
       "        vertical-align: top;\n",
       "    }\n",
       "\n",
       "    .dataframe thead th {\n",
       "        text-align: right;\n",
       "    }\n",
       "</style>\n",
       "<table border=\"1\" class=\"dataframe\">\n",
       "  <thead>\n",
       "    <tr style=\"text-align: right;\">\n",
       "      <th></th>\n",
       "      <th>customer_id</th>\n",
       "      <th>predicted_purchases</th>\n",
       "      <th>p_alive</th>\n",
       "      <th>clv</th>\n",
       "      <th>frequency</th>\n",
       "      <th>recency</th>\n",
       "      <th>T</th>\n",
       "      <th>monetary_value</th>\n",
       "    </tr>\n",
       "  </thead>\n",
       "  <tbody>\n",
       "    <tr>\n",
       "      <th>0</th>\n",
       "      <td>33.0</td>\n",
       "      <td>0.295925</td>\n",
       "      <td>0.35</td>\n",
       "      <td>45.401124</td>\n",
       "      <td>4.0</td>\n",
       "      <td>434.0</td>\n",
       "      <td>477.0</td>\n",
       "      <td>68.020</td>\n",
       "    </tr>\n",
       "    <tr>\n",
       "      <th>1</th>\n",
       "      <td>78.0</td>\n",
       "      <td>0.267794</td>\n",
       "      <td>0.79</td>\n",
       "      <td>15.148638</td>\n",
       "      <td>2.0</td>\n",
       "      <td>449.0</td>\n",
       "      <td>792.0</td>\n",
       "      <td>80.300</td>\n",
       "    </tr>\n",
       "    <tr>\n",
       "      <th>2</th>\n",
       "      <td>96.0</td>\n",
       "      <td>0.392830</td>\n",
       "      <td>0.72</td>\n",
       "      <td>162.867630</td>\n",
       "      <td>4.0</td>\n",
       "      <td>479.0</td>\n",
       "      <td>526.0</td>\n",
       "      <td>267.145</td>\n",
       "    </tr>\n",
       "    <tr>\n",
       "      <th>3</th>\n",
       "      <td>177.0</td>\n",
       "      <td>0.026813</td>\n",
       "      <td>0.29</td>\n",
       "      <td>NaN</td>\n",
       "      <td>NaN</td>\n",
       "      <td>NaN</td>\n",
       "      <td>NaN</td>\n",
       "      <td>NaN</td>\n",
       "    </tr>\n",
       "    <tr>\n",
       "      <th>4</th>\n",
       "      <td>190.0</td>\n",
       "      <td>0.205844</td>\n",
       "      <td>0.85</td>\n",
       "      <td>43.131332</td>\n",
       "      <td>5.0</td>\n",
       "      <td>1056.0</td>\n",
       "      <td>1075.0</td>\n",
       "      <td>104.328</td>\n",
       "    </tr>\n",
       "  </tbody>\n",
       "</table>\n",
       "</div>"
      ],
      "text/plain": [
       "   customer_id  predicted_purchases  p_alive         clv  frequency  recency  \\\n",
       "0         33.0             0.295925     0.35   45.401124        4.0    434.0   \n",
       "1         78.0             0.267794     0.79   15.148638        2.0    449.0   \n",
       "2         96.0             0.392830     0.72  162.867630        4.0    479.0   \n",
       "3        177.0             0.026813     0.29         NaN        NaN      NaN   \n",
       "4        190.0             0.205844     0.85   43.131332        5.0   1056.0   \n",
       "\n",
       "        T  monetary_value  \n",
       "0   477.0          68.020  \n",
       "1   792.0          80.300  \n",
       "2   526.0         267.145  \n",
       "3     NaN             NaN  \n",
       "4  1075.0         104.328  "
      ]
     },
     "execution_count": 61,
     "metadata": {},
     "output_type": "execute_result"
    }
   ],
   "source": [
    "clv.head()"
   ]
  },
  {
   "cell_type": "code",
   "execution_count": 62,
   "metadata": {},
   "outputs": [],
   "source": [
    "final = pd.merge(clv, segment, how='left', on='customer_id')"
   ]
  },
  {
   "cell_type": "code",
   "execution_count": 73,
   "metadata": {},
   "outputs": [],
   "source": [
    "final.to_csv('./final2.csv')"
   ]
  },
  {
   "cell_type": "markdown",
   "metadata": {},
   "source": [
    "Now using this data I am able to calculate the Customer Equity of the company for the next three months by taking the sum of the clv values of he customer base as a whole multiplied by an arbitrary profit margin of 5% after costs."
   ]
  },
  {
   "cell_type": "code",
   "execution_count": 64,
   "metadata": {},
   "outputs": [],
   "source": [
    "customer_equity = (final.clv.sum() * 0.05)"
   ]
  },
  {
   "cell_type": "code",
   "execution_count": 65,
   "metadata": {},
   "outputs": [
    {
     "name": "stdout",
     "output_type": "stream",
     "text": [
      "74170.28961986522\n"
     ]
    }
   ],
   "source": [
    "print(customer_equity)"
   ]
  },
  {
   "cell_type": "markdown",
   "metadata": {},
   "source": [
    "We can also demonstrate the benefit of targetting our high value users over the low value ones by taking the difference in expected sales from between the different catagories. For example if we look at the clv values for the loyal spenders (6387) and compare it with the clv values of missing loyal big spenders (6485) we can observe the difference in revenue that each can potentially bring in with a more targeted campaign."
   ]
  },
  {
   "cell_type": "code",
   "execution_count": 66,
   "metadata": {},
   "outputs": [
    {
     "data": {
      "text/html": [
       "<div>\n",
       "<style scoped>\n",
       "    .dataframe tbody tr th:only-of-type {\n",
       "        vertical-align: middle;\n",
       "    }\n",
       "\n",
       "    .dataframe tbody tr th {\n",
       "        vertical-align: top;\n",
       "    }\n",
       "\n",
       "    .dataframe thead th {\n",
       "        text-align: right;\n",
       "    }\n",
       "</style>\n",
       "<table border=\"1\" class=\"dataframe\">\n",
       "  <thead>\n",
       "    <tr style=\"text-align: right;\">\n",
       "      <th></th>\n",
       "      <th>customer_id</th>\n",
       "      <th>predicted_purchases</th>\n",
       "      <th>p_alive</th>\n",
       "      <th>clv</th>\n",
       "      <th>frequency</th>\n",
       "      <th>recency</th>\n",
       "      <th>T</th>\n",
       "      <th>monetary_value</th>\n",
       "      <th>r_score</th>\n",
       "      <th>f_score</th>\n",
       "      <th>m_score</th>\n",
       "      <th>clusters</th>\n",
       "      <th>group</th>\n",
       "      <th>strategy</th>\n",
       "    </tr>\n",
       "  </thead>\n",
       "  <tbody>\n",
       "    <tr>\n",
       "      <th>0</th>\n",
       "      <td>33.0</td>\n",
       "      <td>0.295925</td>\n",
       "      <td>0.35</td>\n",
       "      <td>45.401124</td>\n",
       "      <td>4.0</td>\n",
       "      <td>434.0</td>\n",
       "      <td>477.0</td>\n",
       "      <td>68.020</td>\n",
       "      <td>3.0</td>\n",
       "      <td>2.0</td>\n",
       "      <td>4.0</td>\n",
       "      <td>0.0</td>\n",
       "      <td>missing loyal spenders</td>\n",
       "      <td>Push upsell, target complementary purchases</td>\n",
       "    </tr>\n",
       "    <tr>\n",
       "      <th>1</th>\n",
       "      <td>78.0</td>\n",
       "      <td>0.267794</td>\n",
       "      <td>0.79</td>\n",
       "      <td>15.148638</td>\n",
       "      <td>2.0</td>\n",
       "      <td>449.0</td>\n",
       "      <td>792.0</td>\n",
       "      <td>80.300</td>\n",
       "      <td>3.0</td>\n",
       "      <td>3.0</td>\n",
       "      <td>3.0</td>\n",
       "      <td>4.0</td>\n",
       "      <td>missing spenders</td>\n",
       "      <td>Push upsell, target with price incentives</td>\n",
       "    </tr>\n",
       "    <tr>\n",
       "      <th>2</th>\n",
       "      <td>96.0</td>\n",
       "      <td>0.392830</td>\n",
       "      <td>0.72</td>\n",
       "      <td>162.867630</td>\n",
       "      <td>4.0</td>\n",
       "      <td>479.0</td>\n",
       "      <td>526.0</td>\n",
       "      <td>267.145</td>\n",
       "      <td>3.0</td>\n",
       "      <td>2.0</td>\n",
       "      <td>1.0</td>\n",
       "      <td>2.0</td>\n",
       "      <td>missing loyal big spenders</td>\n",
       "      <td>Target with price incentives, complementary pu...</td>\n",
       "    </tr>\n",
       "    <tr>\n",
       "      <th>3</th>\n",
       "      <td>177.0</td>\n",
       "      <td>0.026813</td>\n",
       "      <td>0.29</td>\n",
       "      <td>NaN</td>\n",
       "      <td>NaN</td>\n",
       "      <td>NaN</td>\n",
       "      <td>NaN</td>\n",
       "      <td>NaN</td>\n",
       "      <td>NaN</td>\n",
       "      <td>NaN</td>\n",
       "      <td>NaN</td>\n",
       "      <td>NaN</td>\n",
       "      <td>NaN</td>\n",
       "      <td>NaN</td>\n",
       "    </tr>\n",
       "    <tr>\n",
       "      <th>4</th>\n",
       "      <td>190.0</td>\n",
       "      <td>0.205844</td>\n",
       "      <td>0.85</td>\n",
       "      <td>43.131332</td>\n",
       "      <td>5.0</td>\n",
       "      <td>1056.0</td>\n",
       "      <td>1075.0</td>\n",
       "      <td>104.328</td>\n",
       "      <td>4.0</td>\n",
       "      <td>2.0</td>\n",
       "      <td>3.0</td>\n",
       "      <td>0.0</td>\n",
       "      <td>missing loyal spenders</td>\n",
       "      <td>Push upsell, target complementary purchases</td>\n",
       "    </tr>\n",
       "  </tbody>\n",
       "</table>\n",
       "</div>"
      ],
      "text/plain": [
       "   customer_id  predicted_purchases  p_alive         clv  frequency  recency  \\\n",
       "0         33.0             0.295925     0.35   45.401124        4.0    434.0   \n",
       "1         78.0             0.267794     0.79   15.148638        2.0    449.0   \n",
       "2         96.0             0.392830     0.72  162.867630        4.0    479.0   \n",
       "3        177.0             0.026813     0.29         NaN        NaN      NaN   \n",
       "4        190.0             0.205844     0.85   43.131332        5.0   1056.0   \n",
       "\n",
       "        T  monetary_value  r_score  f_score  m_score  clusters  \\\n",
       "0   477.0          68.020      3.0      2.0      4.0       0.0   \n",
       "1   792.0          80.300      3.0      3.0      3.0       4.0   \n",
       "2   526.0         267.145      3.0      2.0      1.0       2.0   \n",
       "3     NaN             NaN      NaN      NaN      NaN       NaN   \n",
       "4  1075.0         104.328      4.0      2.0      3.0       0.0   \n",
       "\n",
       "                        group  \\\n",
       "0      missing loyal spenders   \n",
       "1            missing spenders   \n",
       "2  missing loyal big spenders   \n",
       "3                         NaN   \n",
       "4      missing loyal spenders   \n",
       "\n",
       "                                            strategy  \n",
       "0        Push upsell, target complementary purchases  \n",
       "1          Push upsell, target with price incentives  \n",
       "2  Target with price incentives, complementary pu...  \n",
       "3                                                NaN  \n",
       "4        Push upsell, target complementary purchases  "
      ]
     },
     "execution_count": 66,
     "metadata": {},
     "output_type": "execute_result"
    }
   ],
   "source": [
    "final.head()"
   ]
  },
  {
   "cell_type": "code",
   "execution_count": 67,
   "metadata": {},
   "outputs": [],
   "source": [
    "bigs = final[final['group'] == 'missing loyal big spenders']"
   ]
  },
  {
   "cell_type": "code",
   "execution_count": 68,
   "metadata": {},
   "outputs": [
    {
     "data": {
      "text/plain": [
       "891447.2723391624"
      ]
     },
     "execution_count": 68,
     "metadata": {},
     "output_type": "execute_result"
    }
   ],
   "source": [
    "bigs.clv.sum()"
   ]
  },
  {
   "cell_type": "code",
   "execution_count": 71,
   "metadata": {},
   "outputs": [],
   "source": [
    "loyals = final[final['group'] == 'missing loyal spenders']"
   ]
  },
  {
   "cell_type": "code",
   "execution_count": 72,
   "metadata": {},
   "outputs": [
    {
     "data": {
      "text/plain": [
       "303501.27506441437"
      ]
     },
     "execution_count": 72,
     "metadata": {},
     "output_type": "execute_result"
    }
   ],
   "source": [
    "loyals.clv.sum()"
   ]
  },
  {
   "cell_type": "markdown",
   "metadata": {},
   "source": [
    "So we can see that the big spenders will bring in approximately 3 times more revenue over this period, or more than $105,000 dollars in additional sales."
   ]
  }
 ],
 "metadata": {
  "kernelspec": {
   "display_name": "Python 3",
   "language": "python",
   "name": "python3"
  },
  "language_info": {
   "codemirror_mode": {
    "name": "ipython",
    "version": 3
   },
   "file_extension": ".py",
   "mimetype": "text/x-python",
   "name": "python",
   "nbconvert_exporter": "python",
   "pygments_lexer": "ipython3",
   "version": "3.7.1"
  }
 },
 "nbformat": 4,
 "nbformat_minor": 2
}
